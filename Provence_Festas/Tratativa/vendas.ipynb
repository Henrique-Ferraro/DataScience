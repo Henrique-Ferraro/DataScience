{
 "cells": [
  {
   "cell_type": "markdown",
   "metadata": {},
   "source": [
    "##### Falta modificar o campo de Data Evento com datas 00/00/0000"
   ]
  },
  {
   "cell_type": "markdown",
   "metadata": {},
   "source": [
    "### Tratando a base de Vendas"
   ]
  },
  {
   "cell_type": "code",
   "execution_count": 3,
   "metadata": {},
   "outputs": [
    {
     "name": "stdout",
     "output_type": "stream",
     "text": [
      "<class 'pandas.core.frame.DataFrame'>\n",
      "Int64Index: 8335 entries, 0 to 8334\n",
      "Data columns (total 14 columns):\n",
      " #   Column           Non-Null Count  Dtype         \n",
      "---  ------           --------------  -----         \n",
      " 0   Id_Pedido        8335 non-null   int32         \n",
      " 1   Id_Cliente       8335 non-null   int32         \n",
      " 2   Data_Emissao     8335 non-null   datetime64[ns]\n",
      " 3   Data_Evento      8335 non-null   object        \n",
      " 4   Atendente        8335 non-null   object        \n",
      " 5   Cliente          8335 non-null   object        \n",
      " 6   CPF              8335 non-null   object        \n",
      " 7   Forma_Pagamento  8335 non-null   object        \n",
      " 8   Valor            8335 non-null   float64       \n",
      " 9   Frete            8335 non-null   float64       \n",
      " 10  Desconto         8335 non-null   float64       \n",
      " 11  Taxa_Extra       8335 non-null   float64       \n",
      " 12  ano_evento       8335 non-null   int64         \n",
      " 13  mes_evento       8335 non-null   int64         \n",
      "dtypes: datetime64[ns](1), float64(4), int32(2), int64(2), object(5)\n",
      "memory usage: 911.6+ KB\n"
     ]
    },
    {
     "data": {
      "text/html": [
       "<div>\n",
       "<style scoped>\n",
       "    .dataframe tbody tr th:only-of-type {\n",
       "        vertical-align: middle;\n",
       "    }\n",
       "\n",
       "    .dataframe tbody tr th {\n",
       "        vertical-align: top;\n",
       "    }\n",
       "\n",
       "    .dataframe thead th {\n",
       "        text-align: right;\n",
       "    }\n",
       "</style>\n",
       "<table border=\"1\" class=\"dataframe\">\n",
       "  <thead>\n",
       "    <tr style=\"text-align: right;\">\n",
       "      <th></th>\n",
       "      <th>Id_Pedido</th>\n",
       "      <th>Id_Cliente</th>\n",
       "      <th>Data_Emissao</th>\n",
       "      <th>Data_Evento</th>\n",
       "      <th>Atendente</th>\n",
       "      <th>Cliente</th>\n",
       "      <th>CPF</th>\n",
       "      <th>Forma_Pagamento</th>\n",
       "      <th>Valor</th>\n",
       "      <th>Frete</th>\n",
       "      <th>Desconto</th>\n",
       "      <th>Taxa_Extra</th>\n",
       "      <th>ano_evento</th>\n",
       "      <th>mes_evento</th>\n",
       "    </tr>\n",
       "  </thead>\n",
       "  <tbody>\n",
       "    <tr>\n",
       "      <th>0</th>\n",
       "      <td>37</td>\n",
       "      <td>97</td>\n",
       "      <td>2019-01-02</td>\n",
       "      <td>2018-11-10 00:00:00</td>\n",
       "      <td>Suporte</td>\n",
       "      <td>Adriana Aparecida Silva Torres</td>\n",
       "      <td>284.823.008-81</td>\n",
       "      <td>Deposito</td>\n",
       "      <td>1020.00</td>\n",
       "      <td>180.0</td>\n",
       "      <td>0.0</td>\n",
       "      <td>0.0</td>\n",
       "      <td>2018</td>\n",
       "      <td>11</td>\n",
       "    </tr>\n",
       "    <tr>\n",
       "      <th>1</th>\n",
       "      <td>55</td>\n",
       "      <td>190</td>\n",
       "      <td>2019-01-03</td>\n",
       "      <td>2019-01-05 00:00:00</td>\n",
       "      <td>Arlete Toledo</td>\n",
       "      <td>Marta Carvalho</td>\n",
       "      <td>053.117.658-44</td>\n",
       "      <td>Débito</td>\n",
       "      <td>49.00</td>\n",
       "      <td>0.0</td>\n",
       "      <td>0.0</td>\n",
       "      <td>0.0</td>\n",
       "      <td>2019</td>\n",
       "      <td>1</td>\n",
       "    </tr>\n",
       "    <tr>\n",
       "      <th>2</th>\n",
       "      <td>57</td>\n",
       "      <td>191</td>\n",
       "      <td>2019-01-03</td>\n",
       "      <td>2019-01-04 00:00:00</td>\n",
       "      <td>Arlete Toledo</td>\n",
       "      <td>Masa Dezessete Empreendimentos Imobiliarios</td>\n",
       "      <td>12.991.997/0001-78</td>\n",
       "      <td>Deposito</td>\n",
       "      <td>53.96</td>\n",
       "      <td>40.0</td>\n",
       "      <td>0.0</td>\n",
       "      <td>0.0</td>\n",
       "      <td>2019</td>\n",
       "      <td>1</td>\n",
       "    </tr>\n",
       "    <tr>\n",
       "      <th>3</th>\n",
       "      <td>60</td>\n",
       "      <td>72</td>\n",
       "      <td>2019-01-07</td>\n",
       "      <td>2019-01-05 00:00:00</td>\n",
       "      <td>Henrique Cesar</td>\n",
       "      <td>Patricia Pacheco</td>\n",
       "      <td>302.482.778-12</td>\n",
       "      <td>Débito</td>\n",
       "      <td>53.24</td>\n",
       "      <td>0.0</td>\n",
       "      <td>0.0</td>\n",
       "      <td>0.0</td>\n",
       "      <td>2019</td>\n",
       "      <td>1</td>\n",
       "    </tr>\n",
       "    <tr>\n",
       "      <th>4</th>\n",
       "      <td>62</td>\n",
       "      <td>4</td>\n",
       "      <td>2019-01-07</td>\n",
       "      <td>2019-01-05 00:00:00</td>\n",
       "      <td>Henrique Cesar</td>\n",
       "      <td>Casa Da Pizza</td>\n",
       "      <td>04.032.180/0001-44</td>\n",
       "      <td>Deposito</td>\n",
       "      <td>67.50</td>\n",
       "      <td>0.0</td>\n",
       "      <td>0.0</td>\n",
       "      <td>0.0</td>\n",
       "      <td>2019</td>\n",
       "      <td>1</td>\n",
       "    </tr>\n",
       "    <tr>\n",
       "      <th>...</th>\n",
       "      <td>...</td>\n",
       "      <td>...</td>\n",
       "      <td>...</td>\n",
       "      <td>...</td>\n",
       "      <td>...</td>\n",
       "      <td>...</td>\n",
       "      <td>...</td>\n",
       "      <td>...</td>\n",
       "      <td>...</td>\n",
       "      <td>...</td>\n",
       "      <td>...</td>\n",
       "      <td>...</td>\n",
       "      <td>...</td>\n",
       "      <td>...</td>\n",
       "    </tr>\n",
       "    <tr>\n",
       "      <th>8330</th>\n",
       "      <td>11930</td>\n",
       "      <td>1587</td>\n",
       "      <td>2024-03-22</td>\n",
       "      <td>2024-03-23 00:00:00</td>\n",
       "      <td>Patricia Lima</td>\n",
       "      <td>Emporio Pessanha Eireli*</td>\n",
       "      <td>34.021.331/0001-20</td>\n",
       "      <td>PIX</td>\n",
       "      <td>131.00</td>\n",
       "      <td>0.0</td>\n",
       "      <td>0.0</td>\n",
       "      <td>0.0</td>\n",
       "      <td>2024</td>\n",
       "      <td>3</td>\n",
       "    </tr>\n",
       "    <tr>\n",
       "      <th>8331</th>\n",
       "      <td>11932</td>\n",
       "      <td>446</td>\n",
       "      <td>2024-03-22</td>\n",
       "      <td>2024-03-23 00:00:00</td>\n",
       "      <td>Arlete Toledo</td>\n",
       "      <td>Sheila Domenegletti Storel</td>\n",
       "      <td>268.215.308-90</td>\n",
       "      <td>Deposito</td>\n",
       "      <td>167.40</td>\n",
       "      <td>0.0</td>\n",
       "      <td>0.0</td>\n",
       "      <td>0.0</td>\n",
       "      <td>2024</td>\n",
       "      <td>3</td>\n",
       "    </tr>\n",
       "    <tr>\n",
       "      <th>8332</th>\n",
       "      <td>11933</td>\n",
       "      <td>4095</td>\n",
       "      <td>2024-03-22</td>\n",
       "      <td>2024-03-23 00:00:00</td>\n",
       "      <td>Patricia Lima</td>\n",
       "      <td>Gilcilany Melo Nunes</td>\n",
       "      <td>367.048.478-71</td>\n",
       "      <td>PIX</td>\n",
       "      <td>199.50</td>\n",
       "      <td>0.0</td>\n",
       "      <td>0.0</td>\n",
       "      <td>0.0</td>\n",
       "      <td>2024</td>\n",
       "      <td>3</td>\n",
       "    </tr>\n",
       "    <tr>\n",
       "      <th>8333</th>\n",
       "      <td>11935</td>\n",
       "      <td>3699</td>\n",
       "      <td>2024-03-22</td>\n",
       "      <td>2024-03-23 00:00:00</td>\n",
       "      <td>Patricia Lima</td>\n",
       "      <td>Plataforma Digital De Desenvolvimento Humano</td>\n",
       "      <td>48.726.584/0001-03</td>\n",
       "      <td>PIX</td>\n",
       "      <td>776.70</td>\n",
       "      <td>0.0</td>\n",
       "      <td>0.0</td>\n",
       "      <td>0.0</td>\n",
       "      <td>2024</td>\n",
       "      <td>3</td>\n",
       "    </tr>\n",
       "    <tr>\n",
       "      <th>8334</th>\n",
       "      <td>11938</td>\n",
       "      <td>3391</td>\n",
       "      <td>2024-03-22</td>\n",
       "      <td>2024-03-25 00:00:00</td>\n",
       "      <td>Arlete Toledo</td>\n",
       "      <td>Jms Cargo</td>\n",
       "      <td>12.405.839/0001-99</td>\n",
       "      <td>Deposito</td>\n",
       "      <td>199.50</td>\n",
       "      <td>0.0</td>\n",
       "      <td>0.0</td>\n",
       "      <td>0.0</td>\n",
       "      <td>2024</td>\n",
       "      <td>3</td>\n",
       "    </tr>\n",
       "  </tbody>\n",
       "</table>\n",
       "<p>8335 rows × 14 columns</p>\n",
       "</div>"
      ],
      "text/plain": [
       "      Id_Pedido  Id_Cliente Data_Emissao          Data_Evento       Atendente  \\\n",
       "0            37          97   2019-01-02  2018-11-10 00:00:00         Suporte   \n",
       "1            55         190   2019-01-03  2019-01-05 00:00:00   Arlete Toledo   \n",
       "2            57         191   2019-01-03  2019-01-04 00:00:00   Arlete Toledo   \n",
       "3            60          72   2019-01-07  2019-01-05 00:00:00  Henrique Cesar   \n",
       "4            62           4   2019-01-07  2019-01-05 00:00:00  Henrique Cesar   \n",
       "...         ...         ...          ...                  ...             ...   \n",
       "8330      11930        1587   2024-03-22  2024-03-23 00:00:00   Patricia Lima   \n",
       "8331      11932         446   2024-03-22  2024-03-23 00:00:00   Arlete Toledo   \n",
       "8332      11933        4095   2024-03-22  2024-03-23 00:00:00   Patricia Lima   \n",
       "8333      11935        3699   2024-03-22  2024-03-23 00:00:00   Patricia Lima   \n",
       "8334      11938        3391   2024-03-22  2024-03-25 00:00:00   Arlete Toledo   \n",
       "\n",
       "                                           Cliente                 CPF  \\\n",
       "0                   Adriana Aparecida Silva Torres      284.823.008-81   \n",
       "1                                   Marta Carvalho      053.117.658-44   \n",
       "2      Masa Dezessete Empreendimentos Imobiliarios  12.991.997/0001-78   \n",
       "3                                 Patricia Pacheco      302.482.778-12   \n",
       "4                                    Casa Da Pizza  04.032.180/0001-44   \n",
       "...                                            ...                 ...   \n",
       "8330                      Emporio Pessanha Eireli*  34.021.331/0001-20   \n",
       "8331                    Sheila Domenegletti Storel      268.215.308-90   \n",
       "8332                          Gilcilany Melo Nunes      367.048.478-71   \n",
       "8333  Plataforma Digital De Desenvolvimento Humano  48.726.584/0001-03   \n",
       "8334                                     Jms Cargo  12.405.839/0001-99   \n",
       "\n",
       "     Forma_Pagamento    Valor  Frete  Desconto  Taxa_Extra  ano_evento  \\\n",
       "0           Deposito  1020.00  180.0       0.0         0.0        2018   \n",
       "1             Débito    49.00    0.0       0.0         0.0        2019   \n",
       "2           Deposito    53.96   40.0       0.0         0.0        2019   \n",
       "3             Débito    53.24    0.0       0.0         0.0        2019   \n",
       "4           Deposito    67.50    0.0       0.0         0.0        2019   \n",
       "...              ...      ...    ...       ...         ...         ...   \n",
       "8330             PIX   131.00    0.0       0.0         0.0        2024   \n",
       "8331        Deposito   167.40    0.0       0.0         0.0        2024   \n",
       "8332             PIX   199.50    0.0       0.0         0.0        2024   \n",
       "8333             PIX   776.70    0.0       0.0         0.0        2024   \n",
       "8334        Deposito   199.50    0.0       0.0         0.0        2024   \n",
       "\n",
       "      mes_evento  \n",
       "0             11  \n",
       "1              1  \n",
       "2              1  \n",
       "3              1  \n",
       "4              1  \n",
       "...          ...  \n",
       "8330           3  \n",
       "8331           3  \n",
       "8332           3  \n",
       "8333           3  \n",
       "8334           3  \n",
       "\n",
       "[8335 rows x 14 columns]"
      ]
     },
     "execution_count": 3,
     "metadata": {},
     "output_type": "execute_result"
    }
   ],
   "source": [
    "import datetime\n",
    "import pandas as pd\n",
    "import numpy as np\n",
    "\n",
    "vendas = pd.read_excel('C:/Users/polez/Documents/Provence_Festas/Relatorio_24/Vendas24.xlsx')\n",
    "\n",
    "# vendas[vendas['ID Cli.'].isnull()]\n",
    "# vendas[vendas['Data evento'].isnull()]\n",
    "\n",
    "vendas.dropna(subset = ['ID Cli.'], inplace = True)\n",
    "vendas.dropna(subset = ['Data evento'], inplace = True)\n",
    "vendas.dropna(subset = ['ID Ped.'], inplace = True)\n",
    "vendas.dropna(subset = ['Atendente'], inplace = True)\n",
    "vendas.dropna(subset = ['Cliente'], inplace = True)\n",
    "# vendas.dropna(subset = ['CPF'], inplace = True)\n",
    "vendas.dropna(subset = ['Valor'], inplace = True)\n",
    "vendas.dropna(subset = ['Frete'], inplace = True)\n",
    "vendas.dropna(subset = ['Desconto'], inplace = True)\n",
    "vendas.dropna(subset = ['Data de Emissão'], inplace = True)\n",
    "vendas.dropna(subset = ['Forma de Pagamento'], inplace = True)\n",
    "vendas.dropna(subset = ['Taxa extra'], inplace = True)\n",
    "\n",
    "vendas.rename(columns={'ID Ped.': 'Id_Pedido', 'ID Cli.' : 'Id_Cliente', 'Data de Emissão' : 'Data_Emissao', \n",
    "                       'Data evento' : 'Data_Evento', 'Forma de Pagamento' : 'Forma_Pagamento', 'Taxa extra' : 'Taxa_Extra'}, \n",
    "                       inplace = True)\n",
    "\n",
    "vendas_df = pd.DataFrame(vendas)\n",
    "\n",
    "data_types_dict = {'Id_Pedido': int, 'Id_Cliente': int}\n",
    "\n",
    "vendas_df = vendas_df.astype(data_types_dict)\n",
    "\n",
    "vendas_df[\"Data_Evento\"] = pd.to_datetime(vendas_df[\"Data_Evento\"], errors=\"coerce\")\n",
    "\n",
    "vendas_df[vendas_df[\"Data_Evento\"].notnull()]\n",
    "vendas_df[vendas_df[\"Data_Evento\"].notna()]\n",
    "\n",
    "vendas_df[\"ano_evento\"] = vendas_df[\"Data_Evento\"].astype('datetime64[ns]')\n",
    "vendas_df[\"mes_evento\"] = vendas_df[\"Data_Evento\"].astype('datetime64[ns]')\n",
    "\n",
    "vendas_df[\"ano_evento\"] = pd.DatetimeIndex(vendas_df[\"ano_evento\"]).year\n",
    "vendas_df[\"mes_evento\"] = pd.DatetimeIndex(vendas_df[\"mes_evento\"]).month\n",
    "\n",
    "vendas_df[\"ano_evento\"] = pd.to_datetime(vendas_df[\"ano_evento\"]).astype('int64')\n",
    "vendas_df[\"mes_evento\"] = pd.to_datetime(vendas_df[\"mes_evento\"]).astype('int64')\n",
    "\n",
    "vendas_df = vendas_df.fillna({'CPF': 0, 'Data_Evento': 0})\n",
    "vendas_df['Id_Cliente'].dropna(axis=0)\n",
    "\n",
    "vendas_df.info()\n",
    "\n",
    "def formatar(valor):\n",
    "    return \"R$ {:,.2f}\".format(valor)\n",
    "\n",
    "vendas_df\n",
    "\n",
    "# file_name = 'MarksData.xlsx'\n",
    "# vendas.to_excel(file_name)\n",
    "# # vendas\n",
    "\n"
   ]
  },
  {
   "cell_type": "markdown",
   "metadata": {},
   "source": [
    "### Vendas total x Forma de Pagamento por ano"
   ]
  },
  {
   "cell_type": "code",
   "execution_count": 78,
   "metadata": {},
   "outputs": [
    {
     "data": {
      "text/plain": [
       "Forma_Pagamento  ano_evento          \n",
       "Boleto           -9223372036854775808      R$ 1,356.00\n",
       "                  2019                    R$ 62,163.03\n",
       "                  2020                    R$ 14,164.29\n",
       "                  2021                     R$ 8,983.56\n",
       "                  2022                    R$ 15,981.58\n",
       "                  2023                    R$ 20,000.65\n",
       "                  2024                       R$ 392.80\n",
       "Cheque            2019                    R$ 32,615.16\n",
       "                  2020                     R$ 5,126.54\n",
       "                  2021                     R$ 1,316.26\n",
       "Comissao          2019                       R$ 481.10\n",
       "                  2021                       R$ 130.00\n",
       "                  2022                       R$ 663.90\n",
       "                  2023                       R$ 756.36\n",
       "Cortesia         -9223372036854775808          R$ 0.00\n",
       "                  2019                     R$ 4,090.20\n",
       "                  2020                     R$ 1,614.08\n",
       "                  2021                     R$ 5,045.10\n",
       "                  2022                     R$ 6,683.61\n",
       "                  2023                     R$ 4,819.71\n",
       "                  2024                       R$ 575.25\n",
       "Crédito          -9223372036854775808         R$ 67.20\n",
       "                  2019                    R$ 51,625.80\n",
       "                  2020                    R$ 14,362.94\n",
       "                  2021                    R$ 20,032.34\n",
       "                  2022                    R$ 38,193.56\n",
       "                  2023                    R$ 69,791.67\n",
       "                  2024                     R$ 5,446.19\n",
       "Deposito         -9223372036854775808      R$ 7,078.77\n",
       "                  2018                     R$ 1,020.00\n",
       "                  2019                   R$ 329,616.15\n",
       "                  2020                   R$ 122,064.15\n",
       "                  2021                   R$ 334,150.86\n",
       "                  2022                   R$ 572,573.97\n",
       "                  2023                   R$ 422,155.21\n",
       "                  2024                   R$ 102,624.93\n",
       "Desconto          2022                        R$ 59.65\n",
       "                  2023                       R$ 136.40\n",
       "Dinheiro         -9223372036854775808         R$ 76.00\n",
       "                  2019                    R$ 37,447.08\n",
       "                  2020                     R$ 8,451.60\n",
       "                  2021                     R$ 8,714.58\n",
       "                  2022                     R$ 8,716.44\n",
       "                  2023                    R$ 15,763.00\n",
       "                  2024                       R$ 201.78\n",
       "Débito           -9223372036854775808        R$ 163.32\n",
       "                  2019                    R$ 33,307.04\n",
       "                  2020                    R$ 14,600.77\n",
       "                  2021                    R$ 10,893.04\n",
       "                  2022                    R$ 23,003.28\n",
       "                  2023                    R$ 17,463.67\n",
       "                  2024                     R$ 1,094.59\n",
       "PIX              -9223372036854775808      R$ 2,952.95\n",
       "                  2021                       R$ 604.40\n",
       "                  2022                   R$ 171,098.77\n",
       "                  2023                   R$ 574,051.78\n",
       "                  2024                   R$ 127,580.85\n",
       "Name: Valor, dtype: object"
      ]
     },
     "execution_count": 78,
     "metadata": {},
     "output_type": "execute_result"
    }
   ],
   "source": [
    "forma_pagamento = vendas_df['Forma_Pagamento']\n",
    "\n",
    "forma_pagamento.drop_duplicates(inplace = True)\n",
    "\n",
    "forma_pagamento = pd.DataFrame(forma_pagamento)\n",
    "\n",
    "forma_pagamento.index = range(forma_pagamento.shape[0])\n",
    "\n",
    "grupo_FormaPag_Mes = vendas_df.groupby(['Forma_Pagamento', 'ano_evento'])['Valor'].sum().apply(formatar)\n",
    "\n",
    "grupo_FormaPag_Mes"
   ]
  },
  {
   "cell_type": "markdown",
   "metadata": {},
   "source": [
    "### Vendas total x Forma de Pagamento agrupados por mês de cada Ano"
   ]
  },
  {
   "cell_type": "code",
   "execution_count": 79,
   "metadata": {},
   "outputs": [
    {
     "data": {
      "text/plain": [
       "Forma_Pagamento  ano_evento            mes_evento          \n",
       "Boleto           -9223372036854775808  -9223372036854775808     R$ 1,356.00\n",
       "                  2019                  1                       R$ 1,174.50\n",
       "                                        2                       R$ 1,853.90\n",
       "                                        3                       R$ 6,194.60\n",
       "                                        4                       R$ 4,634.78\n",
       "                                                                   ...     \n",
       "PIX               2024                  1                      R$ 13,761.92\n",
       "                                        2                      R$ 50,606.54\n",
       "                                        3                      R$ 59,723.49\n",
       "                                        4                       R$ 3,066.40\n",
       "                                        10                        R$ 422.50\n",
       "Name: Valor, Length: 416, dtype: object"
      ]
     },
     "execution_count": 79,
     "metadata": {},
     "output_type": "execute_result"
    }
   ],
   "source": [
    "grupo_FormaPag_Mes_ano = vendas_df.groupby(['Forma_Pagamento', 'ano_evento', 'mes_evento'])['Valor'].sum().apply(formatar)\n",
    "\n",
    "grupo_FormaPag_Mes_ano"
   ]
  },
  {
   "cell_type": "code",
   "execution_count": 90,
   "metadata": {},
   "outputs": [
    {
     "data": {
      "text/plain": [
       "Forma_Pagamento\n",
       "Boleto        R$123,041.91\n",
       "Cheque         R$39,057.96\n",
       "Comissao        R$2,031.36\n",
       "Cortesia       R$22,827.95\n",
       "Crédito       R$199,519.70\n",
       "Deposito    R$1,891,284.04\n",
       "Desconto          R$196.05\n",
       "Dinheiro       R$79,370.48\n",
       "Débito        R$100,525.71\n",
       "PIX           R$876,288.75\n",
       "Name: Valor, dtype: object"
      ]
     },
     "execution_count": 90,
     "metadata": {},
     "output_type": "execute_result"
    }
   ],
   "source": [
    "grupo_FormaPag_todos_Anos = vendas_df.groupby(['Forma_Pagamento'])['Valor'].sum().apply(formatar)\n",
    "\n",
    "grupo_FormaPag_todos_Anos"
   ]
  },
  {
   "cell_type": "markdown",
   "metadata": {},
   "source": [
    "### Total Vendas por ano"
   ]
  },
  {
   "cell_type": "code",
   "execution_count": 81,
   "metadata": {},
   "outputs": [
    {
     "data": {
      "text/plain": [
       "ano_evento\n",
       "-9223372036854775808       R$ 11,694.24\n",
       " 2018                       R$ 1,020.00\n",
       " 2019                     R$ 551,345.56\n",
       " 2020                     R$ 180,384.37\n",
       " 2021                     R$ 389,870.14\n",
       " 2022                     R$ 836,974.76\n",
       " 2023                   R$ 1,124,938.45\n",
       " 2024                     R$ 237,916.39\n",
       "Name: Valor, dtype: object"
      ]
     },
     "execution_count": 81,
     "metadata": {},
     "output_type": "execute_result"
    }
   ],
   "source": [
    "ano_valor = vendas_df.groupby('ano_evento')['Valor'].sum().apply(formatar)\n",
    "\n",
    "ano_valor"
   ]
  },
  {
   "cell_type": "markdown",
   "metadata": {},
   "source": [
    "### Total Vendas Ano x Mês"
   ]
  },
  {
   "cell_type": "code",
   "execution_count": 92,
   "metadata": {},
   "outputs": [
    {
     "data": {
      "text/plain": [
       "mes_evento            ano_evento          \n",
       "-9223372036854775808  -9223372036854775808     R$11,694.24\n",
       " 1                     2019                    R$15,077.58\n",
       "                       2020                    R$20,928.54\n",
       "                       2021                    R$16,995.43\n",
       "                       2022                    R$28,284.26\n",
       "                                                  ...     \n",
       " 12                    2019                    R$89,282.07\n",
       "                       2020                    R$42,465.29\n",
       "                       2021                   R$106,285.30\n",
       "                       2022                   R$135,532.96\n",
       "                       2023                   R$197,266.75\n",
       "Name: Valor, Length: 69, dtype: object"
      ]
     },
     "execution_count": 92,
     "metadata": {},
     "output_type": "execute_result"
    }
   ],
   "source": [
    "ano_mes_total = vendas_df.groupby(['mes_evento', 'ano_evento'])['Valor'].sum().apply(formatar)\n",
    "\n",
    "ano_mes_total "
   ]
  },
  {
   "cell_type": "markdown",
   "metadata": {},
   "source": [
    "### Total Frete todos os anos"
   ]
  },
  {
   "cell_type": "code",
   "execution_count": 109,
   "metadata": {},
   "outputs": [
    {
     "data": {
      "text/plain": [
       "ano_evento\n",
       "-9223372036854775808        R$392.00\n",
       " 2018                       R$180.00\n",
       " 2019                    R$50,125.71\n",
       " 2020                    R$16,006.20\n",
       " 2021                    R$38,974.00\n",
       " 2022                    R$86,118.90\n",
       " 2023                   R$109,753.10\n",
       " 2024                    R$25,312.92\n",
       "Name: Frete, dtype: object"
      ]
     },
     "execution_count": 109,
     "metadata": {},
     "output_type": "execute_result"
    }
   ],
   "source": [
    "frete_anos_total = vendas_df.groupby(['ano_evento'])['Frete'].sum().apply(formatar)\n",
    "\n",
    "frete_anos_total "
   ]
  },
  {
   "cell_type": "markdown",
   "metadata": {},
   "source": [
    "### Total Frete por mês de cada ano"
   ]
  },
  {
   "cell_type": "code",
   "execution_count": 110,
   "metadata": {},
   "outputs": [
    {
     "data": {
      "text/plain": [
       "mes_evento            ano_evento          \n",
       "-9223372036854775808  -9223372036854775808       R$392.00\n",
       " 1                     2019                    R$1,767.51\n",
       "                       2020                    R$2,312.50\n",
       "                       2021                    R$1,518.00\n",
       "                       2022                    R$2,455.00\n",
       "                                                 ...     \n",
       " 12                    2019                    R$6,684.00\n",
       "                       2020                    R$3,364.00\n",
       "                       2021                   R$10,233.00\n",
       "                       2022                   R$11,797.00\n",
       "                       2023                   R$17,218.80\n",
       "Name: Frete, Length: 69, dtype: object"
      ]
     },
     "execution_count": 110,
     "metadata": {},
     "output_type": "execute_result"
    }
   ],
   "source": [
    "frete_ano_mes = vendas_df.groupby(['mes_evento', 'ano_evento'])['Frete'].sum().apply(formatar)\n",
    "\n",
    "frete_ano_mes"
   ]
  },
  {
   "cell_type": "markdown",
   "metadata": {},
   "source": [
    "### Valor de Vendas por cliente"
   ]
  },
  {
   "cell_type": "code",
   "execution_count": 111,
   "metadata": {},
   "outputs": [
    {
     "name": "stdout",
     "output_type": "stream",
     "text": [
      "DataFrame is written to Excel File successfully.\n"
     ]
    }
   ],
   "source": [
    "# determining the name of the file\n",
    "file_name = 'frete_ano_mes.xlsx'\n",
    "  \n",
    "# saving the excel\n",
    "frete_ano_mes.to_excel(file_name)\n",
    "print('DataFrame is written to Excel File successfully.')"
   ]
  },
  {
   "cell_type": "code",
   "execution_count": 101,
   "metadata": {},
   "outputs": [
    {
     "data": {
      "text/plain": [
       "Cliente\n",
       "* ANDREA CASTEJON                            352.00\n",
       "* Gabriela Garcia Guimarães De Oliveira       74.20\n",
       "* Izadora Rodrigues Normando Simoes *        763.32\n",
       "* Natalia Ferreira Camargo                   387.50\n",
       "** Carlos Magno Dos Reis Michaelis Jr **      85.75\n",
       "                                             ...   \n",
       "Zion Negócios E Produtos Digitais Ltda      1286.40\n",
       "Zoraide Mendes Artave                         65.00\n",
       "Zuni Gastronomia                             317.48\n",
       "Ângela Essig                                 192.00\n",
       "Érica Azar                                   540.80\n",
       "Name: Valor, Length: 2927, dtype: float64"
      ]
     },
     "execution_count": 101,
     "metadata": {},
     "output_type": "execute_result"
    }
   ],
   "source": [
    "cliente_valor = vendas_df.groupby('Cliente')\n",
    "cliente_valor['Valor'].sum().round(2)"
   ]
  },
  {
   "cell_type": "markdown",
   "metadata": {},
   "source": [
    "### Quantidade de Pedidos por Cliente"
   ]
  },
  {
   "cell_type": "code",
   "execution_count": 105,
   "metadata": {},
   "outputs": [
    {
     "data": {
      "text/plain": [
       "<bound method Series.count of 0                     Adriana Aparecida Silva Torres\n",
       "1                                     Marta Carvalho\n",
       "2        Masa Dezessete Empreendimentos Imobiliarios\n",
       "3                                   Patricia Pacheco\n",
       "4                                      Casa Da Pizza\n",
       "                            ...                     \n",
       "8330                        Emporio Pessanha Eireli*\n",
       "8331                      Sheila Domenegletti Storel\n",
       "8332                            Gilcilany Melo Nunes\n",
       "8333    Plataforma Digital De Desenvolvimento Humano\n",
       "8334                                       Jms Cargo\n",
       "Name: Cliente, Length: 8335, dtype: object>"
      ]
     },
     "execution_count": 105,
     "metadata": {},
     "output_type": "execute_result"
    }
   ],
   "source": [
    "qtd_pedido_cliente = vendas_df['Cliente'].count\n",
    "qtd_pedido_cliente"
   ]
  },
  {
   "cell_type": "markdown",
   "metadata": {},
   "source": []
  }
 ],
 "metadata": {
  "kernelspec": {
   "display_name": ".venv",
   "language": "python",
   "name": "python3"
  },
  "language_info": {
   "codemirror_mode": {
    "name": "ipython",
    "version": 3
   },
   "file_extension": ".py",
   "mimetype": "text/x-python",
   "name": "python",
   "nbconvert_exporter": "python",
   "pygments_lexer": "ipython3",
   "version": "3.9.7"
  },
  "orig_nbformat": 4
 },
 "nbformat": 4,
 "nbformat_minor": 2
}
