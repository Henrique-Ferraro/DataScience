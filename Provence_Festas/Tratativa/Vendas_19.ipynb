{
 "cells": [
  {
   "attachments": {},
   "cell_type": "markdown",
   "metadata": {},
   "source": [
    "1º PASSO: PASSO: IMPORTAR A BASE DE DADOS\n",
    "\n",
    "2º PASSO: VISUALIZAR A BASE DE DADOS\n",
    "\n",
    "3º PASSO: TRATAMENTO DE DADOS (CORRIGINDO OS PROBLEMAS DA BASE DE DADOS)\n",
    "\n",
    "4º PASSO: ANALISE INICIAL\n",
    "\n",
    "5º PASSO: ANALISE DETALHADA DOS CLIENTES POR ANO\n"
   ]
  },
  {
   "cell_type": "code",
   "execution_count": 21,
   "metadata": {},
   "outputs": [],
   "source": [
    "# 1º PASSO: IMPORTAR A BASE DE DADOS\n",
    "\n",
    "import pandas as pd\n",
    "import numpy as np\n",
    "import plotly.express as px\n",
    "\n",
    "dfVendas19 = pd.read_excel(\"C:/Users/polez/Documents/Provence_Festas/dados/2023/entregas-2019.xlsx\")\n"
   ]
  },
  {
   "cell_type": "code",
   "execution_count": 22,
   "metadata": {},
   "outputs": [],
   "source": [
    "# EXCLUINDO AS COLUNAS VAZIAS\n",
    "# dfVendas19 = dfVendas19.dropna(how=\"all\", axis=1) \n",
    "\n",
    "# EXCLUINDO AS LINHAS VAZIAS\n",
    "dfVendas19 = dfVendas19.dropna(how=\"any\", axis=0) \n"
   ]
  },
  {
   "cell_type": "code",
   "execution_count": 23,
   "metadata": {},
   "outputs": [],
   "source": [
    "dfVendas19[\"ID\"] = pd.to_numeric(dfVendas19[\"ID\"], errors=\"coerce\")\n",
    "\n",
    "# print(dfVendas19.info())"
   ]
  },
  {
   "attachments": {},
   "cell_type": "markdown",
   "metadata": {},
   "source": [
    "Ordenando 50 melhores clientes de 2019"
   ]
  },
  {
   "cell_type": "code",
   "execution_count": 24,
   "metadata": {},
   "outputs": [],
   "source": [
    "dfVendasClientes = dfVendas19.groupby(\"Cliente\")[\"Subtraído\"].sum()\n",
    "\n",
    "dfVendasClientes1 = dfVendasClientes.sort_values(axis=0, ascending=False)\n",
    "\n",
    "# dfVendasClientes1.head(50)\n"
   ]
  },
  {
   "cell_type": "code",
   "execution_count": 25,
   "metadata": {},
   "outputs": [],
   "source": [
    "dfVendas19['Data evento'] = pd.to_datetime(dfVendas19['Data evento'], format='%d/%m/%Y')\n",
    "\n",
    "# dfVendasMes = dfVendas19.groupby(\"mes\")[\"Subtraído\"].sum()\n",
    "\n",
    "dfVendas19['Mes'] = dfVendas19['Data evento'].dt.month\n",
    "dfVendas19['Ano'] = dfVendas19['Data evento'].dt.year\n",
    "\n"
   ]
  },
  {
   "cell_type": "code",
   "execution_count": 26,
   "metadata": {},
   "outputs": [
    {
     "name": "stdout",
     "output_type": "stream",
     "text": [
      "<class 'pandas.core.frame.DataFrame'>\n",
      "Int64Index: 1834 entries, 0 to 1834\n",
      "Data columns (total 11 columns):\n",
      " #   Column         Non-Null Count  Dtype         \n",
      "---  ------         --------------  -----         \n",
      " 0   ID             1834 non-null   float64       \n",
      " 1   Cliente        1834 non-null   object        \n",
      " 2   Data Gerado    1834 non-null   datetime64[ns]\n",
      " 3   Data retirada  1834 non-null   datetime64[ns]\n",
      " 4   Data evento    1834 non-null   datetime64[ns]\n",
      " 5   Frete          1834 non-null   object        \n",
      " 6   Valor          1834 non-null   float64       \n",
      " 7   Desconto       1834 non-null   float64       \n",
      " 8   Subtraído      1834 non-null   float64       \n",
      " 9   Mes            1834 non-null   int64         \n",
      " 10  Ano            1834 non-null   int64         \n",
      "dtypes: datetime64[ns](3), float64(4), int64(2), object(2)\n",
      "memory usage: 171.9+ KB\n",
      "None\n"
     ]
    }
   ],
   "source": [
    "print(dfVendas19.info())"
   ]
  },
  {
   "cell_type": "code",
   "execution_count": 27,
   "metadata": {},
   "outputs": [],
   "source": [
    "# grafico = px.histogram(dfVendas19, x='Mes', color='Subtraído')\n",
    "# grafico.show()"
   ]
  },
  {
   "cell_type": "code",
   "execution_count": 29,
   "metadata": {},
   "outputs": [
    {
     "name": "stderr",
     "output_type": "stream",
     "text": [
      "C:\\Users\\polez\\AppData\\Local\\Temp\\ipykernel_54920\\407772764.py:3: FutureWarning: save is not part of the public API, usage can give unexpected results and will be removed in a future version\n",
      "  datatoexcel.save()\n"
     ]
    }
   ],
   "source": [
    "datatoexcel = pd.ExcelWriter('C:/Users/polez/Documents/Provence_Festas/dados/TESTE1.xlsx')\n",
    "dfVendas19.to_excel(datatoexcel)\n",
    "datatoexcel.save()"
   ]
  }
 ],
 "metadata": {
  "kernelspec": {
   "display_name": ".venv",
   "language": "python",
   "name": "python3"
  },
  "language_info": {
   "codemirror_mode": {
    "name": "ipython",
    "version": 3
   },
   "file_extension": ".py",
   "mimetype": "text/x-python",
   "name": "python",
   "nbconvert_exporter": "python",
   "pygments_lexer": "ipython3",
   "version": "3.11.1"
  },
  "orig_nbformat": 4
 },
 "nbformat": 4,
 "nbformat_minor": 2
}
