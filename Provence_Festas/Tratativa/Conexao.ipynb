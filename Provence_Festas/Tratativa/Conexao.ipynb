{
 "cells": [
  {
   "cell_type": "code",
   "execution_count": 1,
   "metadata": {},
   "outputs": [
    {
     "ename": "InterfaceError",
     "evalue": "('28000', \"[28000] [Microsoft][ODBC SQL Server Driver][SQL Server]Falha de logon do usuário 'polezel@hotmail.com'. (18456) (SQLDriverConnect); [28000] [Microsoft][ODBC SQL Server Driver][SQL Server]Falha de logon do usuário 'polezel@hotmail.com'. (18456)\")",
     "output_type": "error",
     "traceback": [
      "\u001b[1;31m---------------------------------------------------------------------------\u001b[0m",
      "\u001b[1;31mInterfaceError\u001b[0m                            Traceback (most recent call last)",
      "\u001b[1;32m~\\AppData\\Local\\Temp/ipykernel_32644/130565433.py\u001b[0m in \u001b[0;36m<module>\u001b[1;34m\u001b[0m\n\u001b[0;32m      8\u001b[0m \u001b[0musername\u001b[0m \u001b[1;33m=\u001b[0m \u001b[1;34m'polezel@hotmail.com'\u001b[0m\u001b[1;33m\u001b[0m\u001b[1;33m\u001b[0m\u001b[0m\n\u001b[0;32m      9\u001b[0m \u001b[0mpassword\u001b[0m \u001b[1;33m=\u001b[0m \u001b[1;34m'801303'\u001b[0m\u001b[1;33m\u001b[0m\u001b[1;33m\u001b[0m\u001b[0m\n\u001b[1;32m---> 10\u001b[1;33m \u001b[0mcnxn\u001b[0m \u001b[1;33m=\u001b[0m \u001b[0mpyodbc\u001b[0m\u001b[1;33m.\u001b[0m\u001b[0mconnect\u001b[0m\u001b[1;33m(\u001b[0m\u001b[1;34m'DRIVER={SQL Server};SERVER='\u001b[0m\u001b[1;33m+\u001b[0m\u001b[0mserver\u001b[0m\u001b[1;33m+\u001b[0m\u001b[1;34m';DATABASE='\u001b[0m\u001b[1;33m+\u001b[0m\u001b[0mdatabase\u001b[0m\u001b[1;33m+\u001b[0m\u001b[1;34m';UID='\u001b[0m\u001b[1;33m+\u001b[0m\u001b[0musername\u001b[0m\u001b[1;33m+\u001b[0m\u001b[1;34m';PWD='\u001b[0m\u001b[1;33m+\u001b[0m \u001b[0mpassword\u001b[0m\u001b[1;33m)\u001b[0m\u001b[1;33m\u001b[0m\u001b[1;33m\u001b[0m\u001b[0m\n\u001b[0m\u001b[0;32m     11\u001b[0m \u001b[0mcursor\u001b[0m \u001b[1;33m=\u001b[0m \u001b[0mcnxn\u001b[0m\u001b[1;33m.\u001b[0m\u001b[0mcursor\u001b[0m\u001b[1;33m(\u001b[0m\u001b[1;33m)\u001b[0m\u001b[1;33m\u001b[0m\u001b[1;33m\u001b[0m\u001b[0m\n\u001b[0;32m     12\u001b[0m \u001b[1;31m# select 26 rows from SQL table to insert in dataframe.\u001b[0m\u001b[1;33m\u001b[0m\u001b[1;33m\u001b[0m\u001b[0m\n",
      "\u001b[1;31mInterfaceError\u001b[0m: ('28000', \"[28000] [Microsoft][ODBC SQL Server Driver][SQL Server]Falha de logon do usuário 'polezel@hotmail.com'. (18456) (SQLDriverConnect); [28000] [Microsoft][ODBC SQL Server Driver][SQL Server]Falha de logon do usuário 'polezel@hotmail.com'. (18456)\")"
     ]
    }
   ],
   "source": [
    "import pyodbc\n",
    "import pandas as pd\n",
    "# Some other example server values are\n",
    "# server = 'localhost\\sqlexpress' # for a named instance\n",
    "# server = 'myserver,port' # to specify an alternate port\n",
    "server = 'LAPTOP-34N4CKPT\\SQLEXPRESS' \n",
    "database = 'PF' \n",
    "username = '' \n",
    "password = ''  \n",
    "cnxn = pyodbc.connect('DRIVER={SQL Server};SERVER='+server+';DATABASE='+database+';UID='+username+';PWD='+ password)\n",
    "cursor = cnxn.cursor()\n",
    "# select 26 rows from SQL table to insert in dataframe.\n",
    "query = \"SELECT Nome FROM cliente;\"\n",
    "df = pd.read_sql(query, cnxn)\n",
    "print(df.head(26))"
   ]
  }
 ],
 "metadata": {
  "kernelspec": {
   "display_name": "Python 3",
   "language": "python",
   "name": "python3"
  },
  "language_info": {
   "codemirror_mode": {
    "name": "ipython",
    "version": 3
   },
   "file_extension": ".py",
   "mimetype": "text/x-python",
   "name": "python",
   "nbconvert_exporter": "python",
   "pygments_lexer": "ipython3",
   "version": "3.9.7"
  },
  "orig_nbformat": 4,
  "vscode": {
   "interpreter": {
    "hash": "c617ff90b58a3a0232f3dcf7b4a50182eefaa40cb0c1ac3b90dcb917d8c0c491"
   }
  }
 },
 "nbformat": 4,
 "nbformat_minor": 2
}
