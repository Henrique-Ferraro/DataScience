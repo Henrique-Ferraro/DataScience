{
 "cells": [
  {
   "cell_type": "markdown",
   "metadata": {},
   "source": [
    "#### 1) Escreva um código que lê a lista abaixo e faça:\n",
    "\n",
    "lista = [16, 14, 63, 65, 17, 99, 70, 11, 20, 48, 79, 32, 17, 89, 12, 25, 66]\n",
    "\n",
    "A leitura do tamanho da lista\n",
    "\n",
    "A leitura do maior e menor valor\n",
    "\n",
    "A soma dos valores da lista\n",
    "\n",
    "Ao final exiba uma mensagem dizendo:\n",
    "\n",
    "\"A lista possui [tam] números em que o maior número é [maior] e o menor número é [menor]. A soma dos valores pares presentes nela é igual a [soma]\"\n",
    "\n",
    "Dica: use as funções embutidas presentes na documentação do Python."
   ]
  },
  {
   "cell_type": "code",
   "execution_count": null,
   "metadata": {},
   "outputs": [],
   "source": [
    "# Lista gerada\n",
    "lista = [16, 14, 63, 65, 17, 99, 70, 11, 20, 48, 79, 32, 17, 89, 12, 25, 66]\n",
    "\n",
    "# Lendo o tamanho, maior e menor número e soma, respectivamente, utilizando as built-in functions\n",
    "tam = len(lista)\n",
    "maior = max(lista)\n",
    "menor = min(lista)\n",
    "soma = sum(lista)\n",
    "\n",
    "# Exibindo o texto\n",
    "print(f\"A lista possui {tam} números em que o maior número é {maior} e o menor número é {menor}. A soma dos valores pares presentes nela é igual a {soma}.\")"
   ]
  },
  {
   "cell_type": "markdown",
   "metadata": {},
   "source": [
    "#### 2) Escreva uma função que gere a tabuada de um número inteiro de 1 a 10, de acordo com a escolha da pessoa usuária. Como exemplo, para o número 7, a tabuada deve ser mostrada no seguinte formato:\n",
    "\n",
    "Tabuada do 7:\n",
    "\n",
    "7 x 0 = 0\n",
    "\n",
    "7 x 1 = 7\n",
    "\n",
    "7 x 10 = 70"
   ]
  },
  {
   "cell_type": "code",
   "execution_count": null,
   "metadata": {},
   "outputs": [],
   "source": [
    "# Requisitando o número\n",
    "num = int(input(\"Digite um número inteiro de 1 a 10:\"))\n",
    "\n",
    "# Gerando a função tabuada()\n",
    "def tabuada(numero: int):\n",
    "  print(f'Tabuada do {numero}:')\n",
    "  for i in range(11):\n",
    "    resultado = numero * i\n",
    "    print(f'{numero} x {i} = {resultado}')\n",
    "\n",
    "# lendo a tabuada do número escolhido\n",
    "tabuada(num)"
   ]
  },
  {
   "cell_type": "markdown",
   "metadata": {},
   "source": [
    "#### 3) Crie a função que leia a lista abaixo e retorne uma nova lista com os múltiplos de 3:\n",
    "\n",
    "[97, 80, 94, 88, 80, 1, 16, 53, 62, 32, 24, 99]\n",
    "\n",
    "Utilize o return na função e salve a nova lista na variável mult_3."
   ]
  },
  {
   "cell_type": "code",
   "execution_count": null,
   "metadata": {},
   "outputs": [],
   "source": [
    "# Lista gerada\n",
    "lista = [97, 80, 94, 88, 80, 1, 16, 53, 62, 32, 24, 99]\n",
    "\n",
    "# declarando a lista de multiplos de 3 \n",
    "mult_3 = []\n",
    "# função para gerar uma lista dos múltiplos de 3 a partir de uma lista\n",
    "def multiplo_3(lista: list) -> list:\n",
    "  for i in range(len(lista)):\n",
    "    # condição para um número ser múltiplo de 3\n",
    "    if lista[i] % 3 == 0:\n",
    "      mult_3.append(lista[i])\n",
    "  return mult_3\n",
    "\n",
    "# retornando a lista gerada para a variável mult_3\n",
    "mult_3 = multiplo_3(lista)\n",
    "mult_3"
   ]
  },
  {
   "cell_type": "markdown",
   "metadata": {},
   "source": [
    "#### 4) Crie uma lista dos quadrados dos números da seguinte lista [1, 2, 3, 4, 5, 6, 7, 8, 9, 10].\n",
    "\n",
    "Lembre-se de utilizar as funções lambda e map() para calcular o quadrado de cada elemento da lista."
   ]
  },
  {
   "cell_type": "code",
   "execution_count": null,
   "metadata": {},
   "outputs": [],
   "source": [
    "# Lista dos números\n",
    "numeros = [1, 2, 3, 4, 5, 6, 7, 8, 9, 10]\n",
    "\n",
    "# Função lambda que eleva um número ao quadrado\n",
    "quadrado = lambda x: x ** 2\n",
    "\n",
    "# Utilizando a função map() para aplicar a função lambda em cada número da lista\n",
    "resultado = list(map(quadrado, numeros))\n",
    "resultado "
   ]
  },
  {
   "cell_type": "markdown",
   "metadata": {},
   "source": [
    "#### 5) Você foi contratado(a) como cientista de dados de uma associação de skate. Para analisar as notas recebidas de skatistas em algumas competições ao longo do ano, você precisa criar um código que calcula a pontuação dos(as) atletas. Para isso, o seu código deve receber 5 notas digitadas pelas pessoas juradas.\n",
    "\n",
    "Para calcular a pontuação de um(a) skatista, você precisa eliminar a maior e a menor pontuação dentre as 5 notas e tirar a média das 3 notas que sobraram.\n",
    "\n",
    "Retorne a média para apresentar o texto:\n",
    "\n",
    "\"Nota da manobra: [media]\""
   ]
  },
  {
   "cell_type": "code",
   "execution_count": null,
   "metadata": {},
   "outputs": [],
   "source": [
    "# declarando a lista de notas\n",
    "notas = []\n",
    "# laço for para pedir as 5 notas e armazená-las na lista notas\n",
    "for i in range(1,6):\n",
    "  nota = float(input(f\"Digite a {i}ª nota: \"))\n",
    "  notas.append(nota)\n",
    "\n",
    "# Função para remover a maior e menor nota e retornar a média das notas restantes\n",
    "def media(lista):\n",
    "  lista.remove(max(lista))\n",
    "  lista.remove(min(lista))\n",
    "  return sum(lista) / len(lista)\n",
    "\n",
    "# Chamando a função e imprimindo a nota da(o) skatista\n",
    "media = media(notas)\n",
    "print(f\"Nota da manobra: {round(media, 1)}\") "
   ]
  },
  {
   "cell_type": "markdown",
   "metadata": {},
   "source": [
    "#### 6) Para atender a uma demanda de uma instituição de ensino para a análise do desempenho de seus(suas) estudantes, você precisa criar uma função que receba uma lista de 4 notas e retorne:\n",
    "\n",
    "maior nota\n",
    "\n",
    "menor nota\n",
    "\n",
    "média\n",
    "\n",
    "situação (Aprovado(a) ou Reprovado(a))\n",
    "\n",
    "Para testar o comportamento da função, os dados podem ser exibidos em um texto:\n",
    "\n",
    "\"O(a) estudante obteve uma média de "
   ]
  },
  {
   "cell_type": "code",
   "execution_count": null,
   "metadata": {},
   "outputs": [],
   "source": [
    "# declarando a lista de notas\n",
    "notas = []\n",
    "# laço for para pedir as 4 notas e armazená-las na lista notas\n",
    "for i in range(1,5):\n",
    "  nota = float(input(f\"Digite a {i}ª nota: \"))\n",
    "  notas.append(nota)\n",
    "\n",
    "def cadastro(lista):\n",
    "  maior = max(lista)\n",
    "  menor = min(lista)\n",
    "  media = sum(lista) / len(lista)\n",
    "  if media >= 6:\n",
    "    situacao = \"Aprovado(a)\"\n",
    "  else:\n",
    "    situacao = \"Reprovado(a)\"\n",
    "\n",
    "  return (media, maior, menor, situacao)\n",
    "\n",
    "media, maior, menor, situacao = cadastro(notas)\n",
    "\n",
    "print(f\"O(a) estudante obteve uma media de {media}, com a sua maior nota de {maior} pontos e a menor nota de {menor} pontos e foi {situacao}\")"
   ]
  },
  {
   "cell_type": "markdown",
   "metadata": {},
   "source": [
    "#### 7) Você recebeu uma demanda para tratar 2 listas com os nomes e sobrenomes de cada estudante concatenando-as para apresentar seus nomes completos na forma Nome Sobrenome.\n",
    "\n",
    "As listas são:\n",
    "\n",
    "nomes = [\"joão\", \"MaRia\", \"JOSÉ\"]\n",
    "\n",
    "sobrenomes = [\"SILVA\", \"souza\", \"Tavares\"]\n",
    "\n",
    "O texto exibido ao fim deve ser parecido com:\n",
    "\n",
    "\"Nome completo: Ana Silva\"\n",
    "\n",
    "Dica: Utilize a função map para mapear os nomes e sobrenomes e as funções de string para tratar o texto."
   ]
  },
  {
   "cell_type": "code",
   "execution_count": null,
   "metadata": {},
   "outputs": [],
   "source": [
    "# Nomes dos estudantes\n",
    "nomes = [\"joão\", \"MaRia\", \"JOSÉ\"]\n",
    "sobrenomes = [\"SILVA\", \"souza\", \"Tavares\"]\n",
    "\n",
    "# Função lambda que recebe duas listas e itera em cada uma concatenando seu nome e sobrenome\n",
    "# na forma desejada\n",
    "nome_completo = map(lambda nome, sobrenome: f'{nome.title()} {sobrenome.title()}', nomes, sobrenomes)\n",
    "\n",
    "# Leitura do objeto mapa(iterável)\n",
    "for n in nome_completo:\n",
    "  print(f'Nome completo: {n}')"
   ]
  },
  {
   "cell_type": "markdown",
   "metadata": {},
   "source": [
    "#### 8) Como cientista de dados em um time de futebol, você precisa implementar novas formas de coleta de dados sobre o desempenho de jogadores e do time como um todo. Sua primeira ação é criar uma forma de calcular a pontuação do time no campeonato nacional a partir dos dados de gols marcados e sofridos em cada jogo.\n",
    "\n",
    "Escreva uma função chamada calcula_pontos que recebe como parâmetros duas listas de números inteiros, representando os gols marcados e sofridos pelo time em cada partida do campeonato. A função deve retornar a pontuação do time e o aproveitamento em percentual, levando em consideração que a vitória vale 3 pontos, o empate vale 1 ponto e a derrota 0 pontos.\n",
    "\n",
    "Observação: Se a quantidade de gols marcados numa partida for maior que a de sofridos, o time venceu. Caso seja igual, o time empatou e se for menor, o time perdeu. Para calcular o aproveitamento devemos fazer a razão entre a pontuação do time pela pontuação máxima que ele poderia receber.\n",
    "\n",
    "Para teste, utilize as seguintes listas de gols marcados e sofridos:\n",
    "\n",
    "gols_marcados = [2, 1, 3, 1, 0]\n",
    "\n",
    "gols_sofridos = [1, 2, 2, 1, 3]\n",
    "\n",
    "Provável texto exibido:\n",
    "\n",
    "\"A pontuação do time foi de [pontos] e se"
   ]
  },
  {
   "cell_type": "code",
   "execution_count": null,
   "metadata": {},
   "outputs": [],
   "source": [
    "gols_marcados = [2, 1, 3, 1, 0]\n",
    "gols_sofridos = [1, 2, 2, 1, 3]\n",
    "\n",
    "def calcula_pontos(gols_marcados, gols_sofridos):\n",
    "  pontos = 0\n",
    "  for i in range(len(gols_marcados)):\n",
    "    if gols_marcados[i] > gols_sofridos[i]:\n",
    "      pontos += 3\n",
    "    elif gols_marcados[i] == gols_sofridos[i]:\n",
    "      pontos += 1\n",
    "  aprov = 100 * pontos / (len(gols_marcados) * 3)\n",
    "  return (pontos, aprov)\n",
    "\n",
    "pontos, aprov = calcula_pontos(gols_marcados, gols_sofridos)\n",
    "print(f\"A pontuação do time foi de {pontos} e seu aproveitamento foi de {round(aprov)}%\")"
   ]
  },
  {
   "cell_type": "markdown",
   "metadata": {},
   "source": [
    "#### 9) Você recebeu o desafio de criar um código que calcula os gastos de uma viagem para um das quatro cidades partindo de Recife, sendo elas: Salvador, Fortaleza, Natal e Aracaju.\n",
    "\n",
    "O custo da diária do hotel é de 150 reais em todas elas e o consumo de gasolina na viagem de carro é de 14 km/l, sendo que o valor da gasolina é de 5 reais o litro. O gastos com passeios e alimentação a se fazer em cada uma delas por dia seria de [200, 400, 250, 300], respectivamente.\n",
    "\n",
    "Sabendo que as distâncias entre Recife e cada uma das cidades é de aproximadamente [850, 800, 300, 550] km, crie três funções nas quais: a 1ª função calcule os gastos com hotel (gasto_hotel), a 2ª calcule os gastos com a gasolina (gasto_gasolina) e a 3ª os gastos com passeio e alimentação (gasto_passeio).\n",
    "\n",
    "Para testar, simule uma viagem de 3 dias para Salvador partindo de Recife. Considere a viagem de ida e volta de carro.\n",
    "\n",
    "\"Com base nos gastos definidos, uma v"
   ]
  },
  {
   "cell_type": "code",
   "execution_count": null,
   "metadata": {},
   "outputs": [],
   "source": [
    "dias = int(input(\"Quantas diárias? \"))\n",
    "cidade = input(\"Qual a cidade? [Salvador, Fortaleza, Natal ou Aracaju]: \")\n",
    "distancias = [850, 800, 300, 550]\n",
    "passeio = [200, 400, 250, 300]\n",
    "km_l = 14\n",
    "gasolina = 5\n",
    "\n",
    "def gasto_hotel(dias):\n",
    "    return 150 * dias\n",
    "\n",
    "def gasto_gasolina(cidade):\n",
    "    if cidade == \"Salvador\":\n",
    "        return (2 * distancias[0] * gasolina) / km_l \n",
    "    elif cidade == \"Fortaleza\":\n",
    "        return (2 * distancias[1] * gasolina) / km_l \n",
    "    elif cidade == \"Natal\":\n",
    "        return (2 * distancias[2] * gasolina) / km_l \n",
    "    elif cidade == \"Aracaju\":\n",
    "        return (2 * distancias[3] * gasolina) / km_l \n",
    "\n",
    "def gasto_passeio(cidade, dias):\n",
    "    if cidade==\"Salvador\":\n",
    "        return passeio[0] * dias\n",
    "    elif cidade==\"Fortaleza\":\n",
    "        return passeio[1] * dias\n",
    "    elif cidade==\"Natal\":\n",
    "        return passeio[2] * dias \n",
    "    elif cidade==\"Aracaju\":\n",
    "        return passeio[3] * dias \n",
    "\n",
    "gastos = gasto_hotel(dias) + gasto_gasolina(cidade) + gasto_passeio(cidade, dias)\n",
    "print(f\"Com base nos gastos definidos, uma viagem de {dias} dias para {cidade} saindo de Recife custaria {round(gastos, 2)} reais\")"
   ]
  },
  {
   "cell_type": "markdown",
   "metadata": {},
   "source": [
    "#### 10) Você iniciou um estágio em uma empresa que trabalha com processamento de linguagem natural (NLP). Sua líder requisitou que você criasse um trecho de código que recebe uma frase digitada pela pessoa usuária e filtre apenas as palavras com tamanho maior ou igual a 5, exibindo-as em uma lista. Essa demanda é voltada para a análise do padrão de comportamento de pessoas na escrita de palavras acima dessa quantidade de caracteres.\n",
    "\n",
    "Dica: utilize as funções lambda e filter() para filtrar essas palavras. Lembrando que a função embutida filter() recebe uma função (no nosso exemplo uma função lambda) e filtra um iterável de acordo com a função. Para tratar a frase use replace() para trocar a ',' '.', '!' e '?' por espaço.\n",
    "\n",
    "Use a frase \"Aprender Python aqui na Alura é muito bom\"para testar o código"
   ]
  },
  {
   "cell_type": "code",
   "execution_count": null,
   "metadata": {},
   "outputs": [],
   "source": [
    "# Requisitando uma frase e separando-a pelos espaços. Usando replace para trocar\n",
    "# pontuações por espaço.\n",
    "frase = input(\"Digite uma frase: \")\n",
    "frase = frase.replace(',',' ').replace('.',' ').replace('!',' ').replace('?',' ').split()\n",
    "\n",
    "# Filtrando a frase no formato de lista, passando para a lista tamanho\n",
    "# apenas as palavras com 5 ou mais caracteres e imprimindo-a na tela\n",
    "tamanho = list(filter(lambda x: len(x) >= 5, frase))\n",
    "print(tamanho)"
   ]
  }
 ],
 "metadata": {
  "kernelspec": {
   "display_name": "base",
   "language": "python",
   "name": "python3"
  },
  "language_info": {
   "name": "python",
   "version": "3.9.7"
  },
  "orig_nbformat": 4
 },
 "nbformat": 4,
 "nbformat_minor": 2
}
