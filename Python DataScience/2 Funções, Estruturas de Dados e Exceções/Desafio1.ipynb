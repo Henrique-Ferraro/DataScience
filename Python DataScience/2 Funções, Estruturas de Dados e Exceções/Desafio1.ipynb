{
 "cells": [
  {
   "cell_type": "markdown",
   "metadata": {},
   "source": [
    "#### 1) Escreva um código para instalar a versão 3.7.1 da biblioteca matplotlib."
   ]
  },
  {
   "cell_type": "code",
   "execution_count": 3,
   "metadata": {},
   "outputs": [
    {
     "name": "stdout",
     "output_type": "stream",
     "text": [
      "Collecting matplotlib==3.7.1\n",
      "  Using cached matplotlib-3.7.1-cp39-cp39-win_amd64.whl (7.6 MB)\n",
      "Requirement already satisfied: pillow>=6.2.0 in c:\\programdata\\anaconda3\\lib\\site-packages (from matplotlib==3.7.1) (8.4.0)\n",
      "Requirement already satisfied: cycler>=0.10 in c:\\programdata\\anaconda3\\lib\\site-packages (from matplotlib==3.7.1) (0.10.0)\n",
      "Requirement already satisfied: contourpy>=1.0.1 in c:\\programdata\\anaconda3\\lib\\site-packages (from matplotlib==3.7.1) (1.1.0)\n",
      "Requirement already satisfied: importlib-resources>=3.2.0 in c:\\programdata\\anaconda3\\lib\\site-packages (from matplotlib==3.7.1) (6.0.0)\n",
      "Requirement already satisfied: packaging>=20.0 in c:\\programdata\\anaconda3\\lib\\site-packages (from matplotlib==3.7.1) (21.0)\n",
      "Requirement already satisfied: fonttools>=4.22.0 in c:\\programdata\\anaconda3\\lib\\site-packages (from matplotlib==3.7.1) (4.25.0)\n"
     ]
    },
    {
     "name": "stderr",
     "output_type": "stream",
     "text": [
      "ERROR: Could not install packages due to an OSError: [WinError 5] Acesso negado: 'c:\\\\programdata\\\\anaconda3\\\\lib\\\\site-packages\\\\__pycache__\\\\pylab.cpython-39.pyc'\n",
      "Consider using the `--user` option or check the permissions.\n",
      "\n"
     ]
    },
    {
     "name": "stdout",
     "output_type": "stream",
     "text": [
      "Requirement already satisfied: kiwisolver>=1.0.1 in c:\\programdata\\anaconda3\\lib\\site-packages (from matplotlib==3.7.1) (1.3.1)\n",
      "Requirement already satisfied: numpy>=1.20 in c:\\programdata\\anaconda3\\lib\\site-packages (from matplotlib==3.7.1) (1.20.3)\n",
      "Requirement already satisfied: pyparsing>=2.3.1 in c:\\programdata\\anaconda3\\lib\\site-packages (from matplotlib==3.7.1) (3.0.4)\n",
      "Requirement already satisfied: python-dateutil>=2.7 in c:\\programdata\\anaconda3\\lib\\site-packages (from matplotlib==3.7.1) (2.8.2)\n",
      "Requirement already satisfied: six in c:\\programdata\\anaconda3\\lib\\site-packages (from cycler>=0.10->matplotlib==3.7.1) (1.16.0)\n",
      "Requirement already satisfied: zipp>=3.1.0 in c:\\programdata\\anaconda3\\lib\\site-packages (from importlib-resources>=3.2.0->matplotlib==3.7.1) (3.6.0)\n",
      "Installing collected packages: matplotlib\n",
      "  Attempting uninstall: matplotlib\n",
      "    Found existing installation: matplotlib 3.4.3\n",
      "    Uninstalling matplotlib-3.4.3:\n"
     ]
    }
   ],
   "source": [
    "!pip install matplotlib==3.7.1"
   ]
  },
  {
   "cell_type": "markdown",
   "metadata": {},
   "source": [
    "#### 2) Escreva um código para importar a biblioteca numpy com o alias np."
   ]
  },
  {
   "cell_type": "code",
   "execution_count": null,
   "metadata": {},
   "outputs": [],
   "source": [
    "import numpy as np"
   ]
  },
  {
   "cell_type": "markdown",
   "metadata": {},
   "source": [
    "#### 3) Crie um programa que lê a seguinte lista de números e escolha um número desta aleatoriamente.\n",
    "\n",
    "lista = [8, 12, 54, 23, 43, 1, 90, 87, 105, 77]"
   ]
  },
  {
   "cell_type": "code",
   "execution_count": null,
   "metadata": {},
   "outputs": [],
   "source": [
    "from random import choice\n",
    "\n",
    "lista = [8, 12, 54, 23, 43, 1, 90, 87, 105, 77]\n",
    "print(f\"Número escolhido: {choice(lista)}\")"
   ]
  },
  {
   "cell_type": "markdown",
   "metadata": {},
   "source": [
    "#### 4) Crie um programa que sorteia aleatoriamente um número inteiro menor que 100.\n",
    "\n",
    "Dica: use a função randrange() da biblioteca random. Essa função recebe como parâmetro o valor limite para a escolha aleatória ou um intervalo se passado o limite mínimo e máximo. Por exemplo, randrange(5) gera valores inteiros menores que 5."
   ]
  },
  {
   "cell_type": "code",
   "execution_count": null,
   "metadata": {},
   "outputs": [],
   "source": [
    "from random import randrange\n",
    "\n",
    "randrange(100)"
   ]
  },
  {
   "cell_type": "markdown",
   "metadata": {},
   "source": [
    "#### 5) Crie um programa que solicite à pessoa usuária digitar dois números inteiros e calcular a potência do 1º número elevado ao 2º.\n",
    "\n",
    "Dica: use a função pow() da biblioteca math"
   ]
  },
  {
   "cell_type": "code",
   "execution_count": null,
   "metadata": {},
   "outputs": [],
   "source": [
    "from math import pow\n",
    "\n",
    "base = int(input(\"Digite a base da potência: \"))\n",
    "expoente = int(input(\"Digite o expoente da potência: \"))\n",
    "print(f\"{base} elevado a {expoente} é igual a {pow(base, expoente)}\")"
   ]
  },
  {
   "cell_type": "markdown",
   "metadata": {},
   "source": [
    "#### 6) Um programa deve ser escrito para sortear uma pessoa seguidora de uma rede social para ganhar um prêmio. A lista de participantes é numerada e devemos escolher aleatoriamente um número de acordo com a quantidade de participantes.\n",
    "\n",
    "Peça à pessoa usuária para fornecer o número de participantes do sorteio e devolva para ela o número sorteado."
   ]
  },
  {
   "cell_type": "code",
   "execution_count": null,
   "metadata": {},
   "outputs": [],
   "source": [
    "from random import randint\n",
    "# Transformando a quantidade de participantes de string para inteiro\n",
    "n = int(input(\"Digite o nº de participantes do sorteio: \"))\n",
    "# Sorteando um número no intervalo de 1 até a quantidade de participantes\n",
    "print(f\"O número sorteado foi {randint(1, n)}\")"
   ]
  },
  {
   "cell_type": "markdown",
   "metadata": {},
   "source": [
    "#### 7) Você recebeu uma demanda para gerar números de token para o acesso ao aplicativo de uma empresa. O token precisa ser par e variar de 1000 até 9998. Escreva um código que solicita à pessoa usuária o seu nome e exibe uma mensagem junto a esse token gerado aleatoriamente.\n",
    "\n",
    "\"Olá, [nome], o seu token de acesso é [token]! Seja bem-vindo(a)!\""
   ]
  },
  {
   "cell_type": "code",
   "execution_count": null,
   "metadata": {},
   "outputs": [],
   "source": [
    "from random import randrange\n",
    "\n",
    "nome = input(\"Qual o seu nome? \")\n",
    "# Gerando um token par de 1000 a 9998. O randrange tem o intervalo aberto em 10000, ou seja,\n",
    "# não considera 10000 como opção de escolha (token >= 1000 e token < 10000)\n",
    "token = randrange(1000, 10000, 2)\n",
    "\n",
    "print(f\"Olá, {nome}, o seu token de acesso é {token}! Seja bem-vindo(a)!\")"
   ]
  },
  {
   "cell_type": "markdown",
   "metadata": {},
   "source": [
    "#### 8) Para diversificar e atrair novos clientes, uma lanchonete criou um item misterioso em seu cardápio chamado \"salada de frutas surpresa\". Neste item, são escolhidas aleatoriamente 3 frutas de uma lista de 12 para compor a salada de frutas da pessoa cliente.\n",
    "\n",
    "Crie o código que faça essa seleção aleatória de acordo com a lista abaixo:\n",
    "\n",
    "frutas = [\"maçã\", \"banana\", \"uva\", \"pêra\", \n",
    "          \"manga\", \"coco\", \"melancia\", \"mamão\",\n",
    "          \"laranja\", \"abacaxi\", \"kiwi\", \"ameixa\"]"
   ]
  },
  {
   "cell_type": "code",
   "execution_count": null,
   "metadata": {},
   "outputs": [],
   "source": [
    "from random import choices\n",
    "\n",
    "# Lista das frutas disponíveis\n",
    "frutas = [\"maçã\", \"banana\", \"uva\", \"pêra\",\"manga\", \"coco\", \n",
    "          \"melancia\", \"mamão\", \"laranja\", \"abacaxi\", \"kiwi\", \"ameixa\"]\n",
    "\n",
    "# Gerando uma lista com a escolha aleatoria de 3 frutas \n",
    "salada = choices(frutas, k=3)\n",
    "\n",
    "# Imprimindo os itens da lista de frutas gerada\n",
    "print(f\"A salada surpresa é: {salada[0]}, {salada[1]} e {salada[2]}\")"
   ]
  },
  {
   "cell_type": "markdown",
   "metadata": {},
   "source": [
    "#### 9) Você recebeu um desafio de calcular a raiz quadrada de uma lista de números, identificando quais resultaram em um número inteiro. A lista é a seguinte:\n",
    "\n",
    "numeros = [2, 8, 15, 23, 91, 112, 256]\n",
    "\n",
    "Informe no final quais números possuem raízes inteiras e seus respectivos valores.\n",
    "\n",
    "Dica: use a comparação entre a divisão inteira (//) da raiz por 1 com o valor da raiz para verificar se o número é inteiro. Por exemplo:\n",
    "\n",
    "num = 1.5\n",
    "\n",
    "num_2 = 2\n",
    "\n",
    "print(f'{num} é inteiro? :', num // 1 == num)\n",
    "\n",
    "print(f'{num_2} é inteiro? :', num_2 // 1 == num_2)\n",
    "\n",
    "Saída:\n",
    "\n",
    "1.5 é inteiro? : False\n",
    "\n",
    "2 é inteiro? : True"
   ]
  },
  {
   "cell_type": "code",
   "execution_count": null,
   "metadata": {},
   "outputs": [],
   "source": [
    "from math import sqrt\n",
    "\n",
    "numeros = [2, 8, 15, 23, 81, 112, 256]\n",
    "# iniciando uma lista vazia para receber as raízes\n",
    "raiz = []\n",
    "\n",
    "# laço for para calcular cada raiz da lista de números e adicionar a lista raiz\n",
    "for numero in numeros:\n",
    "  raiz.append(sqrt(numero))\n",
    "\n",
    "# laço for para ler a lista raiz e exibir um texto só quando a raiz for um valor inteiro \n",
    "for i in range(len(raiz)):\n",
    "  # condição para testar se um número é inteiro (Ex: 2.5 // 1 = 2 ... 2 != 2.5)\n",
    "  if raiz[i] // 1 == raiz[i]:\n",
    "    print(f\"O número {numeros[i]} possui raiz quadrada inteira igual a {int(raiz[i])}\")"
   ]
  },
  {
   "cell_type": "markdown",
   "metadata": {},
   "source": [
    "#### 10) Faça um programa para uma loja que vende grama para jardins. Essa loja trabalha com jardins circulares e o preço do metro quadrado da grama é de R$ 25,00. Peça à pessoa usuária o raio da área circular e devolva o valor em reais do quanto precisará pagar.\n",
    "\n",
    "Dica: use a variável pi e o método pow() da biblioteca math. O cálculo da área de um círculo é de: A = π*r^2 (lê-se pi vezes raio ao quadrado).\n",
    "\n",
    "Caso precise de ajuda, opções de solução das atividades estarão disponíveis na seção “Opinião da pessoa instrutora”."
   ]
  },
  {
   "cell_type": "code",
   "execution_count": null,
   "metadata": {},
   "outputs": [],
   "source": [
    "# importando 2 métodos da mesma biblioteca\n",
    "from math import pi, pow\n",
    "\n",
    "raio = float(input(\"Digite o raio da área circular em metros: \"))\n",
    "# Cálculo da área com os métodos da math e obtenção do custo em reais\n",
    "area = pi*pow(raio,2)\n",
    "valor = area * 25.00\n",
    "\n",
    "# Exibição do cálculo e custo na tela. O round(n,2) arredonda qualquer número em 2 casas decimais\n",
    "print(f\"Você precisará pagar R$ {round(valor,2)} por uma área de {round(area,2)} metros de grama\")"
   ]
  }
 ],
 "metadata": {
  "kernelspec": {
   "display_name": "base",
   "language": "python",
   "name": "python3"
  },
  "language_info": {
   "codemirror_mode": {
    "name": "ipython",
    "version": 3
   },
   "file_extension": ".py",
   "mimetype": "text/x-python",
   "name": "python",
   "nbconvert_exporter": "python",
   "pygments_lexer": "ipython3",
   "version": "3.9.7"
  },
  "orig_nbformat": 4
 },
 "nbformat": 4,
 "nbformat_minor": 2
}
