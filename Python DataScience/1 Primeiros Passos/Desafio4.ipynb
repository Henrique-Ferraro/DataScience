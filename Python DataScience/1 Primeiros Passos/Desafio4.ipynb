{
 "cells": [
  {
   "cell_type": "markdown",
   "metadata": {},
   "source": [
    "#### 1) Escreva um programa que peça dois números inteiros e imprima todos os números inteiros entre eles."
   ]
  },
  {
   "cell_type": "code",
   "execution_count": null,
   "metadata": {},
   "outputs": [],
   "source": [
    "# Coletamos os valores de início e fim\n",
    "inicio = int(input('Insira o primeiro número inteiro: '))\n",
    "fim = int(input('Insira o segundo número inteiro: '))\n",
    "\n",
    "# Verificamos se o valor de início é maior que o fim\n",
    "if inicio < fim:\n",
    "  # podemos imprimir os inteiros entre o menor e o maior valor\n",
    "  for i in range(inicio + 1, fim): \n",
    "    print(i)\n",
    "elif inicio > fim:\n",
    "  for i in range(fim + 1, inicio):\n",
    "    print(i)\n",
    "else: #caso os números sejam iguais, não conseguimos imprimir sequência alguma\n",
    "  print('Os números são iguais.')"
   ]
  },
  {
   "cell_type": "markdown",
   "metadata": {},
   "source": [
    "#### 2) Escreva um programa para calcular quantos dias levará para a colônia de uma bactéria A ultrapassar ou igualar a colônia de uma bactéria B, com base nas taxas de crescimento de 3% e 1,5% respectivamente. Considere que a colônia A inicia com 4 elementos e a colônia B com 10 elementos."
   ]
  },
  {
   "cell_type": "code",
   "execution_count": null,
   "metadata": {},
   "outputs": [],
   "source": [
    "# número inicial de bactérias\n",
    "colonia_a = 4\n",
    "colonia_b = 10\n",
    "\n",
    "# taxas de crescimento das colônias\n",
    "taxa_a = 0.03\n",
    "taxa_b = 0.015\n",
    "\n",
    "# contador de dias\n",
    "dias = 0\n",
    "\n",
    "# A condição que finaliza o laço é o caso em que\n",
    "# a colônia A ultrapasse a colônia B\n",
    "while colonia_a <= colonia_b:\n",
    "  # usamos um operador de atribuição com multiplicação\n",
    "  colonia_a *= 1 + taxa_a\n",
    "  colonia_b *= 1 + taxa_b\n",
    "  # contamos o ano para cada iteração\n",
    "  dias += 1\n",
    "\n",
    "# resultado final\n",
    "print(f'Irá levar {dias} dias para a colônia A ultrapassar a colônia B.')"
   ]
  },
  {
   "cell_type": "markdown",
   "metadata": {},
   "source": [
    "#### 3) Para tratar uma quantidade de 15 dados de avaliações de pessoas usuárias de um serviço da empresa, precisamos verificar se as notas são válidas. Então, escreva um programa que vai receber a nota de 0 a 5 de todos os dados e verificar se é um valor válido. Caso seja inserido uma nota acima de 5 ou abaixo de 0, repita até que a pessoa usuária insira um valor válido."
   ]
  },
  {
   "cell_type": "code",
   "execution_count": null,
   "metadata": {},
   "outputs": [],
   "source": [
    "# laço para pegar as 15 notas\n",
    "for i in range(15):\n",
    "  nota = float(input(f'Insira a nota da pessoa usuária {i}: '))\n",
    "\n",
    "  # verifica se a nota está entre 0 e 5\n",
    "  # se estiver, o laço rodará ininterruptamente até ser obtido um valor válido\n",
    "  while (nota < 0) or (nota > 5):\n",
    "    nota = float(input(f'Nota inválida, insira novamente a nota da pessoa usuária {i}: '))\n",
    "\n",
    "print('Verificação feita. Todas as notas são válidas')"
   ]
  },
  {
   "cell_type": "markdown",
   "metadata": {},
   "source": [
    "#### 4) Desenvolva um programa que leia um conjunto indeterminado de temperaturas em Celsius e faça uma análise. Portanto, escreva um programa que leia temperaturas e informe a média delas. A leitura deve ser encerrada ao ser enviado o valor -273°C."
   ]
  },
  {
   "cell_type": "code",
   "execution_count": null,
   "metadata": {},
   "outputs": [],
   "source": [
    "# coletamos a temperatura\n",
    "temperatura = float(input('Insira a temperatura em Celsius: '))\n",
    "\n",
    "# inicializamos uma contadora e soma para a média\n",
    "contadora = 0\n",
    "soma = 0\n",
    "\n",
    "# nosso código executa sempre até o valor de temperatura for igual a -273\n",
    "while temperatura != -273:\n",
    "    # a soma é dada com a adição da temperatura à variavel soma\n",
    "    soma += temperatura\n",
    "    # contamos a quantidade de valores coletados através da contadora\n",
    "    contadora += 1\n",
    "    # coletamos novamente a temperatura\n",
    "    temperatura = float(input('Insira a temperatura em Celsius: '))\n",
    "\n",
    "media = soma / contadora\n",
    "\n",
    "print(f'A média das temperaturas é: {media}')"
   ]
  },
  {
   "cell_type": "markdown",
   "metadata": {},
   "source": [
    "#### 5) Escreva um programa que calcule o fatorial de um número inteiro fornecido pela pessoa usuária. O fatorial de um número inteiro é a multiplicação desse número por todos os seus antecessores até o número 1. Por exemplo, o fatorial de 5 é 5 x 4 x 3 x 2 x 1 = 120."
   ]
  },
  {
   "cell_type": "code",
   "execution_count": null,
   "metadata": {},
   "outputs": [],
   "source": [
    "# Pedir o número\n",
    "num = int(input('Informe um número inteiro: '))\n",
    "\n",
    "# Inicializar o cálculo\n",
    "fatorial = 1\n",
    "\n",
    "# nosso contador inicializa com o número máximo\n",
    "# e será feita uma contagem decrescente com o operador -=\n",
    "i = num\n",
    "while i > 0:\n",
    "    # queremos multiplicar agora o valor do fatorial pelo num\n",
    "    # e todos os números abaixo dele até 1\n",
    "    fatorial *= i\n",
    "    i -= 1\n",
    "\n",
    "# Imprimir o cálculo do fatorial\n",
    "print(f'Fatorial de {num} é {fatorial}')"
   ]
  },
  {
   "cell_type": "markdown",
   "metadata": {},
   "source": [
    "#### 6) Escreva um programa que gere a tabuada de um número inteiro de 1 a 10, de acordo com a escolha da pessoa usuária. Como exemplo, para o número 2, a tabuada deve ser mostrada no seguinte formato:\n",
    "\n",
    "Tabuada do 2:\n",
    "\n",
    "2 x 1 = 2\n",
    "\n",
    "2 x 2 = 4\n",
    "\n",
    "[...]\n",
    "\n",
    "2 x 10 = 20"
   ]
  },
  {
   "cell_type": "code",
   "execution_count": null,
   "metadata": {},
   "outputs": [],
   "source": [
    "# Pedir o número\n",
    "num = int(input('Informe um número inteiro de 1 a 10: '))\n",
    "\n",
    "# Vamos gerar a tabuada\n",
    "print(f'Tabuada do {num}:')\n",
    "for i in range(1, 11):\n",
    "    resultado = num * i\n",
    "    print(f'{num} x {i} = {resultado}')"
   ]
  },
  {
   "cell_type": "markdown",
   "metadata": {},
   "source": [
    "#### 7) Os números primos possuem várias aplicações dentro da Ciência de Dados, por exemplo, na criptografia e segurança. Um número primo é aquele que é divisível apenas por um e por ele mesmo. Faça um programa que peça um número inteiro e determine se ele é ou não um número primo."
   ]
  },
  {
   "cell_type": "code",
   "execution_count": null,
   "metadata": {},
   "outputs": [],
   "source": [
    "#coletamos o número\n",
    "num = int(input('Insira um número inteiro: '))\n",
    "\n",
    "# números inteiros iguais ou abaixo de 1 não consideramos primos\n",
    "if num > 1:\n",
    "    for i in range(2, num):\n",
    "        # verificamos todos os restos de divisões entre todos os números abaixo de num\n",
    "        # se algum resto for 0, então ele é divisível por outro número além dele e 1\n",
    "        if (num % i) == 0:\n",
    "            print(f'{num} não é um número primo')\n",
    "            break\n",
    "    else:\n",
    "        print(f'{num} é um número primo')\n",
    "else:\n",
    "    print(f'{num} não é um número primo')"
   ]
  },
  {
   "cell_type": "markdown",
   "metadata": {},
   "source": [
    "#### 8) Vamos entender a distribuição de idades de pensionistas de uma empresa de previdência. Escreva um programa que leia as idades de uma quantidade não informada de clientes e mostre a distribuição em intervalos de [0-25], [26-50], [51-75] e [76-100]. Encerre a entrada de dados com um número negativo."
   ]
  },
  {
   "cell_type": "code",
   "execution_count": null,
   "metadata": {},
   "outputs": [],
   "source": [
    "# Coletamos as idades dos clientes\n",
    "idade = int(input('Informe a idade (ou um número negativo para encerrar): '))\n",
    "\n",
    "# Inicializamos as variáveis de contadores\n",
    "contador_0_25 = 0 # contador de idades entre 0 e 25\n",
    "contador_26_50 = 0 # contador de idades entre 26 e 50\n",
    "contador_51_75 = 0 # contador de idades entre 51 e 75\n",
    "contador_76_100 = 0 # contador de idades entre 76 e 100\n",
    "\n",
    "# nosso código executa sempre até o valor de idade for negativa\n",
    "while idade >= 0:\n",
    "    # contamos cada caso\n",
    "    if idade >= 0 and idade <= 25:\n",
    "        contador_0_25 += 1\n",
    "    elif idade >= 26 and idade <= 50:\n",
    "        contador_26_50 += 1\n",
    "    elif idade >= 51 and idade <= 75:\n",
    "        contador_51_75 += 1\n",
    "    elif idade >= 76 and idade <= 100:\n",
    "        contador_76_100 += 1\n",
    "\n",
    "    # Repetir o processo de entrada de dados até que seja digitado um número negativo    \n",
    "    idade = int(input('Informe a idade (ou um número negativo para encerrar): '))\n",
    "\n",
    "# Mostramos os resultados\n",
    "print('Distribuição de idades:')\n",
    "print('[0-25]:', contador_0_25)\n",
    "print('[26-50]:', contador_26_50)\n",
    "print('[51-75]:', contador_51_75)\n",
    "print('[76-100]:', contador_76_100)"
   ]
  },
  {
   "cell_type": "markdown",
   "metadata": {},
   "source": [
    "#### 9) Em uma eleição para gerência em uma empresa com 20 funcionários, existem quatro candidatos. Escreva um programa que calcule o vencedor da eleição. A votação ocorreu da seguinte maneira:\n",
    "\n",
    "Cada funcionário votou em um dos quatro candidatos (representados pelos números 1, 2, 3 e 4).\n",
    "\n",
    "Também foram contabilizados os votos nulos (representado pelo número 5) e os votos em branco (representado pelo número 6).\n",
    "\n",
    "Ao final da votação, o programa deve exibir o total de votos para cada candidato, o número de votos nulos e o número de votos em branco. Além disso, deve calcular e exibir a porcentagem de votos nulos em relação ao total de votos e a porcentagem de votos em branco em relação ao total de votos."
   ]
  },
  {
   "cell_type": "code",
   "execution_count": null,
   "metadata": {},
   "outputs": [],
   "source": [
    "# Inicializamos as variáveis contadoras\n",
    "votos_candidato1 = 0\n",
    "votos_candidato2 = 0\n",
    "votos_candidato3 = 0\n",
    "votos_candidato4 = 0\n",
    "votos_nulos = 0\n",
    "votos_branco = 0\n",
    "\n",
    "# Início do laço para ler os votos\n",
    "for i in range(0,20):\n",
    "    voto = int(input('Informe seu voto: '))\n",
    "    if voto == 1:\n",
    "        votos_candidato1 += 1\n",
    "    elif voto == 2:\n",
    "        votos_candidato2 += 1\n",
    "    elif voto == 3:\n",
    "        votos_candidato3 += 1\n",
    "    elif voto == 4:\n",
    "        votos_candidato4 += 1\n",
    "    elif voto == 5:\n",
    "        votos_nulos += 1\n",
    "    elif voto == 6:\n",
    "        votos_branco += 1\n",
    "    else:\n",
    "        print(\"Voto inválido.\")\n",
    "\n",
    "print(f'Votos candidato 1: {votos_candidato1}')\n",
    "print(f'Votos candidato 2: {votos_candidato2}')\n",
    "print(f'Votos candidato 3: {votos_candidato3}')\n",
    "print(f'Votos candidato 4: {votos_candidato4}')\n",
    "print(f'Votos nulos: {votos_nulos}')\n",
    "print(f'Votos em branco: {votos_branco}')\n",
    "print(f'Percentual de votos nulos: {(votos_nulos / 20 * 100)}')\n",
    "print(f'Percentual de votos em branco: {(votos_branco / 20 * 100)}')"
   ]
  }
 ],
 "metadata": {
  "kernelspec": {
   "display_name": "base",
   "language": "python",
   "name": "python3"
  },
  "language_info": {
   "name": "python",
   "version": "3.9.7"
  },
  "orig_nbformat": 4
 },
 "nbformat": 4,
 "nbformat_minor": 2
}
