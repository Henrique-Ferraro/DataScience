{
 "cells": [
  {
   "cell_type": "markdown",
   "metadata": {},
   "source": [
    "#### 1) Escreva um programa que peça à pessoa usuária para fornecer dois números e exibir o número maior."
   ]
  },
  {
   "cell_type": "code",
   "execution_count": 1,
   "metadata": {},
   "outputs": [
    {
     "ename": "KeyboardInterrupt",
     "evalue": "Interrupted by user",
     "output_type": "error",
     "traceback": [
      "\u001b[1;31m---------------------------------------------------------------------------\u001b[0m",
      "\u001b[1;31mKeyboardInterrupt\u001b[0m                         Traceback (most recent call last)",
      "\u001b[1;32m~\\AppData\\Local\\Temp/ipykernel_98872/4140068874.py\u001b[0m in \u001b[0;36m<module>\u001b[1;34m\u001b[0m\n\u001b[0;32m      1\u001b[0m \u001b[1;31m# Coletar os números\u001b[0m\u001b[1;33m\u001b[0m\u001b[1;33m\u001b[0m\u001b[0m\n\u001b[1;32m----> 2\u001b[1;33m \u001b[0mnum1\u001b[0m \u001b[1;33m=\u001b[0m \u001b[0mfloat\u001b[0m\u001b[1;33m(\u001b[0m\u001b[0minput\u001b[0m\u001b[1;33m(\u001b[0m\u001b[1;34m'Digite o 1° número: '\u001b[0m\u001b[1;33m)\u001b[0m\u001b[1;33m)\u001b[0m\u001b[1;33m\u001b[0m\u001b[1;33m\u001b[0m\u001b[0m\n\u001b[0m\u001b[0;32m      3\u001b[0m \u001b[0mnum2\u001b[0m \u001b[1;33m=\u001b[0m \u001b[0mfloat\u001b[0m\u001b[1;33m(\u001b[0m\u001b[0minput\u001b[0m\u001b[1;33m(\u001b[0m\u001b[1;34m'Digite o 2° número: '\u001b[0m\u001b[1;33m)\u001b[0m\u001b[1;33m)\u001b[0m\u001b[1;33m\u001b[0m\u001b[1;33m\u001b[0m\u001b[0m\n\u001b[0;32m      4\u001b[0m \u001b[1;33m\u001b[0m\u001b[0m\n\u001b[0;32m      5\u001b[0m \u001b[1;31m# Comparamos ambos os números e descobrimos qual é o maior\u001b[0m\u001b[1;33m\u001b[0m\u001b[1;33m\u001b[0m\u001b[0m\n",
      "\u001b[1;32mc:\\ProgramData\\Anaconda3\\lib\\site-packages\\ipykernel\\kernelbase.py\u001b[0m in \u001b[0;36mraw_input\u001b[1;34m(self, prompt)\u001b[0m\n\u001b[0;32m   1004\u001b[0m                 \u001b[1;34m\"raw_input was called, but this frontend does not support input requests.\"\u001b[0m\u001b[1;33m\u001b[0m\u001b[1;33m\u001b[0m\u001b[0m\n\u001b[0;32m   1005\u001b[0m             )\n\u001b[1;32m-> 1006\u001b[1;33m         return self._input_request(\n\u001b[0m\u001b[0;32m   1007\u001b[0m             \u001b[0mstr\u001b[0m\u001b[1;33m(\u001b[0m\u001b[0mprompt\u001b[0m\u001b[1;33m)\u001b[0m\u001b[1;33m,\u001b[0m\u001b[1;33m\u001b[0m\u001b[1;33m\u001b[0m\u001b[0m\n\u001b[0;32m   1008\u001b[0m             \u001b[0mself\u001b[0m\u001b[1;33m.\u001b[0m\u001b[0m_parent_ident\u001b[0m\u001b[1;33m[\u001b[0m\u001b[1;34m\"shell\"\u001b[0m\u001b[1;33m]\u001b[0m\u001b[1;33m,\u001b[0m\u001b[1;33m\u001b[0m\u001b[1;33m\u001b[0m\u001b[0m\n",
      "\u001b[1;32mc:\\ProgramData\\Anaconda3\\lib\\site-packages\\ipykernel\\kernelbase.py\u001b[0m in \u001b[0;36m_input_request\u001b[1;34m(self, prompt, ident, parent, password)\u001b[0m\n\u001b[0;32m   1049\u001b[0m             \u001b[1;32mexcept\u001b[0m \u001b[0mKeyboardInterrupt\u001b[0m\u001b[1;33m:\u001b[0m\u001b[1;33m\u001b[0m\u001b[1;33m\u001b[0m\u001b[0m\n\u001b[0;32m   1050\u001b[0m                 \u001b[1;31m# re-raise KeyboardInterrupt, to truncate traceback\u001b[0m\u001b[1;33m\u001b[0m\u001b[1;33m\u001b[0m\u001b[0m\n\u001b[1;32m-> 1051\u001b[1;33m                 \u001b[1;32mraise\u001b[0m \u001b[0mKeyboardInterrupt\u001b[0m\u001b[1;33m(\u001b[0m\u001b[1;34m\"Interrupted by user\"\u001b[0m\u001b[1;33m)\u001b[0m \u001b[1;32mfrom\u001b[0m \u001b[1;32mNone\u001b[0m\u001b[1;33m\u001b[0m\u001b[1;33m\u001b[0m\u001b[0m\n\u001b[0m\u001b[0;32m   1052\u001b[0m             \u001b[1;32mexcept\u001b[0m \u001b[0mException\u001b[0m\u001b[1;33m:\u001b[0m\u001b[1;33m\u001b[0m\u001b[1;33m\u001b[0m\u001b[0m\n\u001b[0;32m   1053\u001b[0m                 \u001b[0mself\u001b[0m\u001b[1;33m.\u001b[0m\u001b[0mlog\u001b[0m\u001b[1;33m.\u001b[0m\u001b[0mwarning\u001b[0m\u001b[1;33m(\u001b[0m\u001b[1;34m\"Invalid Message:\"\u001b[0m\u001b[1;33m,\u001b[0m \u001b[0mexc_info\u001b[0m\u001b[1;33m=\u001b[0m\u001b[1;32mTrue\u001b[0m\u001b[1;33m)\u001b[0m\u001b[1;33m\u001b[0m\u001b[1;33m\u001b[0m\u001b[0m\n",
      "\u001b[1;31mKeyboardInterrupt\u001b[0m: Interrupted by user"
     ]
    }
   ],
   "source": [
    "# Coletar os números\n",
    "num1 = float(input('Digite o 1° número: '))\n",
    "num2 = float(input('Digite o 2° número: '))\n",
    "\n",
    "# Comparamos ambos os números e descobrimos qual é o maior\n",
    "if num1 > num2:\n",
    "    print(f'O primeiro número é maior: {num1}')\n",
    "elif num2 > num1:\n",
    "    print(f'O segundo número é maior: {num2}')\n",
    "else: # Caso os números sejam iguais\n",
    "    print('Os dois números são iguais.')"
   ]
  },
  {
   "cell_type": "markdown",
   "metadata": {},
   "source": [
    "#### 2) Escreva um programa que solicite o percentual de crescimento de produção de uma empresa e informe se houve um crescimento (porcentagem positiva) ou decrescimento (porcentagem negativa)."
   ]
  },
  {
   "cell_type": "code",
   "execution_count": null,
   "metadata": {},
   "outputs": [],
   "source": [
    "# Coleta do percentual\n",
    "variacao = float(input('Digite o percentual de crescimento: '))\n",
    "\n",
    "# Verifica se o valor é positivo ou negativo com uma verificação se o número\n",
    "# é maior ou menor que 0\n",
    "if variacao > 0:\n",
    "    print(f'Houve um crescimento de {variacao}%')\n",
    "elif variacao < 0:\n",
    "    print(f'Houve um decrescimento de {variacao}%')\n",
    "else:\n",
    "    print('Não houve crescimento ou decrescimento.')"
   ]
  },
  {
   "cell_type": "markdown",
   "metadata": {},
   "source": [
    "#### 3) Escreva um programa que determine se uma letra fornecida pela pessoa usuária é uma vogal ou consoante."
   ]
  },
  {
   "cell_type": "code",
   "execution_count": null,
   "metadata": {},
   "outputs": [],
   "source": [
    "# Conseguimos verificar se uma letra é vogal ou consoante verificando se o caractere está contido \n",
    "# dentro de uma string de vogais através do operador in.\n",
    "\n",
    "# Coletamos a letra da pessoa usuária como minúscula\n",
    "letra = input('Digite uma letra: ').lower()\n",
    "vogais = 'aeiou' # string contendo todos os dados\n",
    "\n",
    "# Verificamos se a letra está nas vogais com in\n",
    "if letra in vogais:\n",
    "    print('A letra é uma vogal.')\n",
    "else:\n",
    "    print('A letra é uma consoante.')"
   ]
  },
  {
   "cell_type": "markdown",
   "metadata": {},
   "source": [
    "#### 4) Escreva um programa que leia valores médios de preços de um modelo de carro por 3 anos consecutivos e exiba o valor mais alto e mais baixo entre esses três anos."
   ]
  },
  {
   "cell_type": "code",
   "execution_count": null,
   "metadata": {},
   "outputs": [],
   "source": [
    "# Comparamos cada valor com os outros dois valores referentes aos outros dois anos e \n",
    "# determinamos o maior e o menor valor. Fazemos isso atribuindo, inicialmente, \n",
    "# a variável preco_ano1 o valor de maior resultado e, caso um haja valor maior que o pré-estabelecido, \n",
    "# a variável maior será trocada. A mesma lógica é aplicada à verificação do menor valor.\n",
    "\n",
    "# Coletamos os preços dos 3 anos\n",
    "preco_ano1 = float(input('Informe o preço médio do carro no primeiro ano: '))\n",
    "preco_ano2 = float(input('Informe o preço médio do carro no segundo ano: '))\n",
    "preco_ano3 = float(input('Informe o preço médio do carro no terceiro ano: '))\n",
    "\n",
    "# Determinamos o maior valor através de comparações\n",
    "maior = preco_ano1\n",
    "if preco_ano2 > maior:\n",
    "  maior = preco_ano2\n",
    "if preco_ano3 > maior:\n",
    "  maior = preco_ano3\n",
    "\n",
    "# Determinamos o menor valor através de comparações\n",
    "menor = preco_ano1\n",
    "if preco_ano2 < menor:\n",
    "  menor = preco_ano2\n",
    "if preco_ano3 < menor:\n",
    "  menor = preco_ano3\n",
    "\n",
    "# Mostramos o resultado\n",
    "print(f'O preço mais alto foi de R$ {maior}.')\n",
    "print(f'O preço mais baixo foi de R$ {menor}.')"
   ]
  },
  {
   "cell_type": "markdown",
   "metadata": {},
   "source": [
    "##### 5) Escreva um programa que pergunte sobre o preço de três produtos e indique qual é o produto mais barato para comprar."
   ]
  },
  {
   "cell_type": "code",
   "execution_count": null,
   "metadata": {},
   "outputs": [],
   "source": [
    "# Coletamos o valor dos três produtos \n",
    "produto1 = float(input('Informe o preço do primeiro produto: '))\n",
    "produto2 = float(input('Informe o preço do segundo produto: '))\n",
    "produto3 = float(input('Informe o preço do terceiro produto: '))\n",
    "\n",
    "# Usamos o operador lógico `and` para verificar qual o menor valor entre os 3 dados de produto\n",
    "# pois nos permite uma comparação de 3 entradas\n",
    "if produto1 < produto2 and produto1 < produto3:\n",
    "    print('O primeiro produto é o mais barato.')\n",
    "elif produto2 < produto1 and produto2 < produto3:\n",
    "    print('O segundo produto é o mais barato.')\n",
    "else:\n",
    "    print('O terceiro produto é o mais barato.')"
   ]
  },
  {
   "cell_type": "markdown",
   "metadata": {},
   "source": [
    "#### 6) Escreva um programa que leia três números e os exiba em ordem decrescente."
   ]
  },
  {
   "cell_type": "code",
   "execution_count": null,
   "metadata": {},
   "outputs": [],
   "source": [
    "# Após coletados os 3 números, fazemos comparações seguindo uma lógica similar à da questão anterior: \n",
    "# usamos o operador lógico and para verificar qual o maior valor entre os 3 dados de produto, depois fazemos \n",
    "# uma verificação entre os dois menores e, assim, usamos o print para imprimir ordenadamente os números para \n",
    "# cada caso, através de várias condicionais agrupadas.\n",
    "\n",
    "# Coletamos os 3 números\n",
    "num1 = int(input('Informe o primeiro número: '))\n",
    "num2 = int(input('Informe o segundo número: '))\n",
    "num3 = int(input('Informe o terceiro número: '))\n",
    "\n",
    "# Comparação entre os 3 números\n",
    "if (num1 >= num2) and (num1 >= num3):\n",
    "    print(num1)\n",
    "    if num2 >= num3:\n",
    "        print(num2)\n",
    "        print(num3)\n",
    "    else:\n",
    "        print(num3)\n",
    "        print(num2)\n",
    "elif (num2 >= num1) and (num2 >= num3):\n",
    "    print(num2)\n",
    "    if num1 >= num3:\n",
    "        print(num1)\n",
    "        print(num3)\n",
    "    else:\n",
    "        print(num3)\n",
    "        print(num1)\n",
    "else:\n",
    "    print(num3)\n",
    "    if num1 >= num2:\n",
    "        print(num1)\n",
    "        print(num2)\n",
    "    else:\n",
    "        print(num2)\n",
    "        print(num1)"
   ]
  },
  {
   "cell_type": "markdown",
   "metadata": {},
   "source": [
    "#### 7) Escreva um programa que pergunte em qual turno a pessoa usuária estuda (\"manhã\", \"tarde\" ou \"noite\") e exiba a mensagem \"Bom Dia!\", \"Boa Tarde!\", \"Boa Noite!\", ou \"Valor Inválido!\", conforme o caso."
   ]
  },
  {
   "cell_type": "code",
   "execution_count": null,
   "metadata": {},
   "outputs": [],
   "source": [
    "# Coletamos o turno de estudo\n",
    "turno = input('Digite em qual turno você estuda (manhã, tarde ou noite): ')\n",
    "\n",
    "# Comparamos a entrada com todas as opções e imprimimos o resultado.\n",
    "if turno == 'manhã':\n",
    "  print('Bom Dia!')\n",
    "elif turno == 'tarde':\n",
    "  print('Boa Tarde!')\n",
    "elif turno == 'noite':\n",
    "  print('Boa Noite!')\n",
    "else:\n",
    "  print('Valor Inválido!')"
   ]
  },
  {
   "cell_type": "markdown",
   "metadata": {},
   "source": [
    "#### 8) Escreva um programa que peça um número inteiro à pessoa usuária e determine se ele é par ou ímpar. Dica: Você pode utilizar o operador módulo %."
   ]
  },
  {
   "cell_type": "code",
   "execution_count": null,
   "metadata": {},
   "outputs": [],
   "source": [
    "# Podemos usar o operador de módulo % para determinar se um número é par ou ímpar. \n",
    "# Se a divisão inteira de um número por 2 tiver um resultado igual à zero, então ele é par. \n",
    "# Se não for, ele é ímpar. Isso é possível ser afirmado pois todos os pares são divisíveis por 2, \n",
    "# então não há restos na divisão.\n",
    "\n",
    "# Coletamos os dados\n",
    "num = int(input('Digite um número: '))\n",
    "\n",
    "# Verificamos se o número é par através do resultado do módulo\n",
    "if num % 2 == 0:\n",
    "    print('O número é par.')\n",
    "else:\n",
    "    print('O número é ímpar.')"
   ]
  },
  {
   "cell_type": "markdown",
   "metadata": {},
   "source": [
    "#### 9) Escreva um programa que peça um número à pessoa usuária e informe se ele é inteiro ou decimal."
   ]
  },
  {
   "cell_type": "code",
   "execution_count": null,
   "metadata": {},
   "outputs": [],
   "source": [
    "# Podemos usar o operador de módulo % para determinar se um número é inteiro ou decimal. \n",
    "# Se o operador de módulo % retornar zero da divisão inteira de um número por 1, então ele é inteiro. \n",
    "# Se não for, ele é decimal.\n",
    "\n",
    "# Coletamos os dados\n",
    "num = float(input('Digite um número: '))\n",
    "\n",
    "# Verificamos se o número é inteiro ou decimal através do resultado do módulo\n",
    "if num % 1 == 0:\n",
    "    print('O número é inteiro.')\n",
    "else:\n",
    "    print('O número é decimal.')"
   ]
  },
  {
   "cell_type": "markdown",
   "metadata": {},
   "source": [
    "#### 10) Um programa deve ser escrito para ler dois números e, em seguida, perguntar à pessoa usuária qual operação ele deseja realizar. O resultado da operação deve incluir informações sobre o número - se é par ou ímpar, positivo ou negativo e inteiro ou decimal."
   ]
  },
  {
   "cell_type": "code",
   "execution_count": null,
   "metadata": {},
   "outputs": [],
   "source": [
    "# Coletamos os números a serem operados e solicitamos a operação desejada pela pessoa usuária\n",
    "num1 = float(input('Informe o primeiro número: '))\n",
    "num2 = float(input('Informe o segundo número: '))\n",
    "operacao = input('Informe a operação desejada (+, -, *, /): ')\n",
    "\n",
    "# Verificamos o operador que foi selecionado e executa a operação matemática conforme a seleção\n",
    "if operacao == '+':\n",
    "    resultado = num1 + num2\n",
    "elif operacao == '-':\n",
    "    resultado = num1 - num2\n",
    "elif operacao == '*':\n",
    "    resultado = num1 * num2\n",
    "elif operacao == '/':\n",
    "    resultado = num1 / num2\n",
    "else: # Especificamos um resultado caso a pessoa usuária não digite alguma das operações corretamente.\n",
    "    print('Operação inválida, resultado da operação será 0')\n",
    "    resultado = 0 \n",
    "\n",
    "#  Fazemos as mesmas verificações das questões anteriores para fazer o relatório do cálculo entre números\n",
    "if resultado % 1 == 0:\n",
    "    print('O resultado é inteiro.')\n",
    "else:\n",
    "    print('O resultado é decimal.')\n",
    "\n",
    "if resultado > 0:\n",
    "    print('O resultado é positivo.')\n",
    "else:\n",
    "    print('O resultado é negativo.')\n",
    "\n",
    "if resultado % 2 == 0:\n",
    "    print('O resultado é par.')\n",
    "else:\n",
    "    print('O resultado é ímpar.')"
   ]
  },
  {
   "cell_type": "markdown",
   "metadata": {},
   "source": [
    "#### 11) Escreva um programa que peça à pessoa usuária três números que representam os lados de um triângulo. O programa deve informar se os valores podem ser utilizados para formar um triângulo e, caso afirmativo, se ele é equilátero, isósceles ou escaleno. Tenha em mente algumas dicas:\n",
    "\n",
    "Três lados formam um triângulo quando a soma de quaisquer dois lados for maior que o terceiro;\n",
    "\n",
    "Triângulo Equilátero: três lados iguais;\n",
    "\n",
    "Triângulo Isósceles: quaisquer dois lados iguais;\n",
    "\n",
    "Triângulo Escaleno: três lados diferentes."
   ]
  },
  {
   "cell_type": "code",
   "execution_count": null,
   "metadata": {},
   "outputs": [],
   "source": [
    "# Após coletarmos os valores dos 3 lados de um triângulo, precisamos verificar se ele pode mesmo ser um triângulo \n",
    "# seguindo a dica “Três lados formam um triângulo quando a soma de quaisquer dois lados for maior que o terceiro”. \n",
    "# Essa verificação podemos fazer com o operador and. Depois, podemos verificar se todos os lados são iguais \n",
    "# formando um equilátero, ou se todos os lados são diferentes, formando um escaleno. \n",
    "# Conseguimos executar essas verificações com o operador and e os comparadores == e !=. \n",
    "# Por fim, utilizamos o else para o caso de um triângulo isósceles.\n",
    "\n",
    "# Coletamos os lados de um triângulo\n",
    "print('Coletaremos os lados de um triângulo.')\n",
    "lado1 = float(input('Digite o comprimento do primeiro lado: '))\n",
    "lado2 = float(input('Digite o comprimento do segundo lado: '))\n",
    "lado3 = float(input('Digite o comprimento do terceiro lado: '))\n",
    "\n",
    "# Verificamos de os lados formam um triângulo\n",
    "if (lado1 + lado2 > lado3) and (lado2 + lado3 > lado1) and (lado1 + lado3 > lado2):\n",
    "    print('Os valores podem formar um triângulo!')\n",
    "    # comparamos os lados para verificar o tipo de triângulo\n",
    "    if (lado1 == lado2) and (lado2 == lado3):\n",
    "        print('O triângulo é equilátero.')\n",
    "    elif (lado1 != lado2) and (lado2 != lado3) and (lado1 != lado3):\n",
    "        print('O triângulo é escaleno.')\n",
    "    else:\n",
    "        print('O triângulo é isósceles.')\n",
    "else:\n",
    "    print('Os valores não podem formar um triângulo!')"
   ]
  },
  {
   "cell_type": "markdown",
   "metadata": {},
   "source": [
    "#### 12) Um estabelecimento está vendendo combustíveis com descontos variados. Para o etanol, se a quantidade comprada for até 15 litros, o desconto será de 2% por litro. Caso contrário, será de 4% por litro. Para o diesel, se a quantidade comprada for até 15 litros, o desconto será de 3% por litro. Caso contrário, será de 5% por litro. O preço do litro de diesel é R$ 2,00 e o preço do litro de etanol é R$ 1,70. Escreva um programa que leia a quantidade de litros vendidos e o tipo de combustível (E para etanol e D para diesel) e calcule o valor a ser pago pelo cliente. Tenha em mente algumas dicas:\n",
    "\n",
    "O do valor do desconto será a multiplicação entre preço do litro, quantidade de litros e o valor do desconto.\n",
    "\n",
    "O valor a ser pago por um cliente será o resultado da multiplicação do preço do litro pela quantidade de litros menos o valor de desconto resultante do cálculo."
   ]
  },
  {
   "cell_type": "code",
   "execution_count": null,
   "metadata": {},
   "outputs": [],
   "source": [
    "# Coletamos a quantidade de litros e o tipo de combustível,\n",
    "# já deixando o caractere em maiúsculo para facilitar nossa análise\n",
    "quantidade_litros = float(input('Informe a quantidade de litros vendidos: '))\n",
    "tipo_combustivel = input('Informe o tipo de combustível (E para etanol e D para diesel): ').upper()\n",
    "\n",
    "#  Verificamos primeiro o tipo de combustível\n",
    "if tipo_combustivel == 'E':\n",
    "  # Taxamos o valor do preço em litros do etanol\n",
    "  preco_litro = 1.70\n",
    "  # De acordo com o valor da quantidade de litros, taxamos também o desconto\n",
    "  if quantidade_litros <= 15:\n",
    "    desconto = 0.02\n",
    "  else:\n",
    "    desconto = 0.04\n",
    "elif tipo_combustivel == 'D':\n",
    "  # Taxamos o valor do preço em litros do disel\n",
    "  preco_litro = 2.00\n",
    "  # De acordo com o valor da quantidade de litros, taxamos também o desconto\n",
    "  if quantidade_litros <= 15:\n",
    "    desconto = 0.03\n",
    "  else:\n",
    "    desconto = 0.05\n",
    "# Caso ocorra um erro na especificação de tipo de combustível,\n",
    "# consideramos entradas inválidas, e os preços são taxados em 0\n",
    "else:\n",
    "    print('Entradas inválidas!')\n",
    "    preco_litro = 0\n",
    "    desconto = 0\n",
    "\n",
    "# Fazemos o cálculo do valor de desconto, seguido do cálculo do preço descontado\n",
    "valor_desconto = preco_litro * quantidade_litros * desconto\n",
    "valor_pago = preco_litro * quantidade_litros - valor_desconto\n",
    "\n",
    "# Resultado\n",
    "print(f'Valor a ser pago pelo cliente: R$ {valor_pago}')"
   ]
  },
  {
   "cell_type": "markdown",
   "metadata": {},
   "source": [
    "#### 13) Em uma empresa de venda de imóveis você precisa criar um código que analise os dados de vendas anuais para ajudar a diretoria na tomada de decisão. O código precisa coletar os dados de quantidade de venda durante os anos de 2022 e 2023 e fazer um cálculo de variação percentual. A partir do valor da variação, deve ser enviada às seguintes sugestões:\n",
    "\n",
    "Para variação acima de 20%: bonificação para o time de vendas.\n",
    "\n",
    "Para variação entre 2% e 20%: pequena bonificação para time de vendas.\n",
    "\n",
    "Para variação entre 2% e -10%: planejamento de políticas de incentivo às vendas.\n",
    "\n",
    "Para bonificações abaixo de -10%: corte de gastos."
   ]
  },
  {
   "cell_type": "code",
   "execution_count": null,
   "metadata": {},
   "outputs": [],
   "source": [
    "# Coletamos as vendas dos dois anos\n",
    "venda_2022 = float(input('Informe a quantidade de vendas em 2022: '))\n",
    "venda_2023 = float(input('Informe a quantidade de vendas em 2023: '))\n",
    "\n",
    "# Calculamos a variação percentual entre as vendas dos anos de 2022 e 2023\n",
    "var_percentual = 100 * (venda_2023 - venda_2022) / (venda_2022)\n",
    "\n",
    "# Análise condicional da variação percentual para determinar a sugestão a ser enviada\n",
    "if var_percentual > 20:\n",
    "    print('Bonificação para o time de vendas.')\n",
    "elif 2 <= var_percentual <= 20:\n",
    "    print('Pequena bonificação para time de vendas.')\n",
    "elif -10 <= var_percentual < 2:\n",
    "    print('Planejamento de políticas de incentivo às vendas.')\n",
    "else:\n",
    "    print('Corte de gastos.')"
   ]
  }
 ],
 "metadata": {
  "kernelspec": {
   "display_name": "base",
   "language": "python",
   "name": "python3"
  },
  "language_info": {
   "codemirror_mode": {
    "name": "ipython",
    "version": 3
   },
   "file_extension": ".py",
   "mimetype": "text/x-python",
   "name": "python",
   "nbconvert_exporter": "python",
   "pygments_lexer": "ipython3",
   "version": "3.9.7"
  },
  "orig_nbformat": 4
 },
 "nbformat": 4,
 "nbformat_minor": 2
}
